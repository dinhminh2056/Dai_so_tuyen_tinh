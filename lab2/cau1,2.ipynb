{
 "cells": [
  {
   "cell_type": "code",
   "execution_count": 1,
   "id": "efc8966c",
   "metadata": {},
   "outputs": [
    {
     "name": "stdout",
     "output_type": "stream",
     "text": [
      "x = 0.0\n",
      "y = 2.0\n",
      "(0.0, 2.0)\n"
     ]
    }
   ],
   "source": [
    "import numpy as np\n",
    "A = np.array([[1, -1],\n",
    "              [2, 3]])\n",
    "\n",
    "B = np.array([-2, 6])\n",
    "solution = np.linalg.solve(A, B)\n",
    "\n",
    "x = solution[0]\n",
    "y = solution[1]\n",
    "\n",
    "print(f\"x = {x}\")\n",
    "print(f\"y = {y}\")\n",
    "print(f\"({x}, {y})\")"
   ]
  },
  {
   "cell_type": "code",
   "execution_count": 2,
   "id": "953de0a7",
   "metadata": {},
   "outputs": [
    {
     "name": "stdout",
     "output_type": "stream",
     "text": [
      "x = 3.0\n",
      "y = 1.0\n",
      "z = 2.0\n",
      "(3.0, 1.0, 2.0)\n"
     ]
    }
   ],
   "source": [
    "import numpy as np\n",
    "A_p2 = np.array([[1, -1, 0],\n",
    "                 [2, -1, -1],\n",
    "                 [1, 1, 1]])\n",
    "\n",
    "B_p2 = np.array([2, 3, 6])\n",
    "solution_p2 = np.linalg.solve(A_p2, B_p2)\n",
    "x_p2 = solution_p2[0]\n",
    "y_p2 = solution_p2[1]\n",
    "z_p2 = solution_p2[2]\n",
    "\n",
    "print(f\"x = {x_p2}\")\n",
    "print(f\"y = {y_p2}\")\n",
    "print(f\"z = {z_p2}\")\n",
    "print(f\"({x_p2}, {y_p2}, {z_p2})\")"
   ]
  },
  {
   "cell_type": "code",
   "execution_count": 5,
   "id": "22901a11",
   "metadata": {},
   "outputs": [
    {
     "name": "stdout",
     "output_type": "stream",
     "text": [
      "a = 1.0000000000000002\n",
      "b = -4.000000000000001\n",
      "c = 7.000000000000001\n",
      "1.0000000000000002x^2 + -4.000000000000001x + 7.000000000000001\n",
      "p(1) = 4.0\n",
      "p(2) = 3.0\n",
      "p(3) = 3.999999999999999\n"
     ]
    }
   ],
   "source": [
    "import numpy as np\n",
    "A_p3 = np.array([[1, 1, 1],\n",
    "                 [4, 2, 1],\n",
    "                 [9, 3, 1]])\n",
    "\n",
    "B_p3 = np.array([4, 3, 4])\n",
    "coefficients_p3 = np.linalg.solve(A_p3, B_p3)\n",
    "\n",
    "a_p3 = coefficients_p3[0]\n",
    "b_p3 = coefficients_p3[1]\n",
    "c_p3 = coefficients_p3[2]\n",
    "\n",
    "print(f\"a = {a_p3}\")\n",
    "print(f\"b = {b_p3}\")\n",
    "print(f\"c = {c_p3}\")\n",
    "print(f\"{a_p3}x^2 + {b_p3}x + {c_p3}\")\n",
    "\n",
    "print(f\"p(1) = {a_p3*(1)**2 + b_p3*(1) + c_p3}\")\n",
    "print(f\"p(2) = {a_p3*(2)**2 + b_p3*(2) + c_p3}\")\n",
    "print(f\"p(3) = {a_p3*(3)**2 + b_p3*(3) + c_p3}\")"
   ]
  },
  {
   "cell_type": "code",
   "execution_count": 6,
   "id": "542eff2f",
   "metadata": {},
   "outputs": [
    {
     "name": "stdout",
     "output_type": "stream",
     "text": [
      "a = -0.11111111111111105 (which is approximately -1/9)\n",
      "b = -0.6666666666666666 (which is approximately -2/3)\n",
      "c = 1.1111111111111112 (which is approximately 10/9)\n"
     ]
    }
   ],
   "source": [
    "import numpy as np\n",
    "A_p4 = np.array([[1, 0, 1],\n",
    "                 [1, 1, -2],\n",
    "                 [-2, 2, 1]])\n",
    "\n",
    "B_p4 = np.array([1, -3, 0])\n",
    "coefficients_p4 = np.linalg.solve(A_p4, B_p4)\n",
    "\n",
    "a_p4 = coefficients_p4[0]\n",
    "b_p4 = coefficients_p4[1]\n",
    "c_p4 = coefficients_p4[2]\n",
    "\n",
    "print(f\"a = {a_p4} (which is approximately -1/9)\")\n",
    "print(f\"b = {b_p4} (which is approximately -2/3)\")\n",
    "print(f\"c = {c_p4} (which is approximately 10/9)\")"
   ]
  },
  {
   "cell_type": "code",
   "execution_count": null,
   "id": "842ce90f",
   "metadata": {},
   "outputs": [],
   "source": []
  }
 ],
 "metadata": {
  "kernelspec": {
   "display_name": "Python 3",
   "language": "python",
   "name": "python3"
  },
  "language_info": {
   "codemirror_mode": {
    "name": "ipython",
    "version": 3
   },
   "file_extension": ".py",
   "mimetype": "text/x-python",
   "name": "python",
   "nbconvert_exporter": "python",
   "pygments_lexer": "ipython3",
   "version": "3.11.0"
  }
 },
 "nbformat": 4,
 "nbformat_minor": 5
}
