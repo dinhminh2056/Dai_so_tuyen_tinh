{
 "cells": [
  {
   "cell_type": "code",
   "execution_count": 2,
   "id": "a744abce",
   "metadata": {},
   "outputs": [
    {
     "name": "stdout",
     "output_type": "stream",
     "text": [
      "Tính toán F_3:\n",
      " [[3 2]\n",
      " [2 1]]\n",
      "Lý thuyết F_3:\n",
      " [[3 2]\n",
      " [2 1]]\n",
      "Khớp: True\n"
     ]
    }
   ],
   "source": [
    "import numpy as np\n",
    "\n",
    "def fib(n):\n",
    "    if n < 0: return None\n",
    "    a, b = 0, 1\n",
    "    for _ in range(n):\n",
    "        a, b = b, a + b\n",
    "    return a\n",
    "\n",
    "F_base = np.array([[1, 1], [1, 0]])\n",
    "\n",
    "while True:\n",
    "    try:\n",
    "        k_input_str = input(\"Nhập số nguyên dương k (hoặc 'q' để thoát): \")\n",
    "        if k_input_str.lower() == 'q':\n",
    "            break\n",
    "        \n",
    "        k = int(k_input_str)\n",
    "        if k < 0:\n",
    "            print(\"Vui lòng nhập số nguyên KHÔNG ÂM.\")\n",
    "            continue\n",
    "        elif k == 0:\n",
    "            calculated_Fk = np.linalg.matrix_power(F_base, k)\n",
    "            theoretical_Fk = np.array([[fib(1), fib(0)], [fib(0), 1]])\n",
    "            print(\"Tính toán F_0:\\n\", calculated_Fk)\n",
    "            print(\"Lý thuyết F_0:\\n\", theoretical_Fk)\n",
    "            print(\"Khớp:\", np.array_equal(calculated_Fk, theoretical_Fk))\n",
    "            break\n",
    "        else:\n",
    "            calculated_Fk = np.linalg.matrix_power(F_base, k)\n",
    "            theoretical_Fk = np.array([[fib(k + 1), fib(k)], [fib(k), fib(k - 1)]])\n",
    "            print(f\"Tính toán F_{k}:\\n\", calculated_Fk)\n",
    "            print(f\"Lý thuyết F_{k}:\\n\", theoretical_Fk)\n",
    "            print(\"Khớp:\", np.array_equal(calculated_Fk, theoretical_Fk))\n",
    "            break\n",
    "            \n",
    "    except ValueError:\n",
    "        print(\"Đầu vào không hợp lệ.\")\n",
    "    except Exception as e:\n",
    "        print(f\"Lỗi: {e}\")"
   ]
  }
 ],
 "metadata": {
  "kernelspec": {
   "display_name": "Python 3",
   "language": "python",
   "name": "python3"
  },
  "language_info": {
   "codemirror_mode": {
    "name": "ipython",
    "version": 3
   },
   "file_extension": ".py",
   "mimetype": "text/x-python",
   "name": "python",
   "nbconvert_exporter": "python",
   "pygments_lexer": "ipython3",
   "version": "3.11.0"
  }
 },
 "nbformat": 4,
 "nbformat_minor": 5
}
