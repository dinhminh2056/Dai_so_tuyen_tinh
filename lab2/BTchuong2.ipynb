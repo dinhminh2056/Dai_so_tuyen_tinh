{
 "cells": [
  {
   "cell_type": "code",
   "execution_count": 1,
   "id": "d8712aa9",
   "metadata": {},
   "outputs": [
    {
     "data": {
      "text/plain": [
       "[30, 50, 70]"
      ]
     },
     "execution_count": 1,
     "metadata": {},
     "output_type": "execute_result"
    }
   ],
   "source": [
    "def scale(a, v):\n",
    "    return [a*vi for vi in v]\n",
    "v = [3,5,7]\n",
    "scale(10, v)"
   ]
  },
  {
   "cell_type": "code",
   "execution_count": null,
   "id": "cad55c86",
   "metadata": {},
   "outputs": [
    {
     "data": {
      "text/plain": [
       "[5, 9, 13]"
      ]
     },
     "execution_count": 2,
     "metadata": {},
     "output_type": "execute_result"
    }
   ],
   "source": [
    "def sumvector(v, w):\n",
    " return [vi+wi for (vi, wi) in zip(v, w)]\n",
    "v = [3,5,7]\n",
    "w = [2,4,6]\n",
    "sumvector(v, w)"
   ]
  },
  {
   "cell_type": "code",
   "execution_count": 3,
   "id": "adeac58c",
   "metadata": {},
   "outputs": [
    {
     "data": {
      "text/plain": [
       "68"
      ]
     },
     "execution_count": 3,
     "metadata": {},
     "output_type": "execute_result"
    }
   ],
   "source": [
    "def dotvector(v, w): \n",
    "    return sum([vi*wi for (vi, wi) in zip(v, w)])\n",
    "dotvector(v, w) "
   ]
  },
  {
   "cell_type": "code",
   "execution_count": 4,
   "id": "def730c1",
   "metadata": {},
   "outputs": [
    {
     "data": {
      "text/plain": [
       "56"
      ]
     },
     "execution_count": 4,
     "metadata": {},
     "output_type": "execute_result"
    }
   ],
   "source": [
    "def lenvector(v):\n",
    " return dotvector(v,v)\n",
    "lenvector(w) "
   ]
  },
  {
   "cell_type": "code",
   "execution_count": 6,
   "id": "5f0c8f61",
   "metadata": {},
   "outputs": [
    {
     "data": {
      "text/plain": [
       "array([-1,  1,  2, -3,  5, -4])"
      ]
     },
     "execution_count": 6,
     "metadata": {},
     "output_type": "execute_result"
    }
   ],
   "source": [
    "import numpy as np\n",
    "scores = np.array([-1, 1, 2, -3, 5, -4])\n",
    "scores "
   ]
  },
  {
   "cell_type": "code",
   "execution_count": 7,
   "id": "e40d1cdd",
   "metadata": {},
   "outputs": [
    {
     "data": {
      "text/plain": [
       "array([False,  True,  True, False,  True, False])"
      ]
     },
     "execution_count": 7,
     "metadata": {},
     "output_type": "execute_result"
    }
   ],
   "source": [
    "scores >= 0"
   ]
  },
  {
   "cell_type": "code",
   "execution_count": 8,
   "id": "1be07d03",
   "metadata": {},
   "outputs": [
    {
     "data": {
      "text/plain": [
       "array([ True, False, False,  True, False,  True])"
      ]
     },
     "execution_count": 8,
     "metadata": {},
     "output_type": "execute_result"
    }
   ],
   "source": [
    "scores < 0 "
   ]
  },
  {
   "cell_type": "code",
   "execution_count": 12,
   "id": "9304d6ea",
   "metadata": {},
   "outputs": [
    {
     "data": {
      "text/plain": [
       "array(['so am', 'so duong', 'so duong', 'so am', 'so duong', 'so am'],\n",
       "      dtype='<U8')"
      ]
     },
     "execution_count": 12,
     "metadata": {},
     "output_type": "execute_result"
    }
   ],
   "source": [
    "np.select([scores >=0, scores < 0],[\"so duong\",\"so am\"])"
   ]
  },
  {
   "cell_type": "code",
   "execution_count": 13,
   "id": "d56aff60",
   "metadata": {},
   "outputs": [
    {
     "data": {
      "text/plain": [
       "array(['so am', 'so duong', 'so duong', 'so 0', 'so am', 'so duong',\n",
       "       'so 0', 'so am'], dtype='<U8')"
      ]
     },
     "execution_count": 13,
     "metadata": {},
     "output_type": "execute_result"
    }
   ],
   "source": [
    "scores = np.array([-1, 1, 2, 0, -3, 5, 0, -4])\n",
    "np.select([scores >0, scores ==0, scores < 0],['so duong', 'so 0', 'so am'])"
   ]
  },
  {
   "cell_type": "code",
   "execution_count": 15,
   "id": "60303395",
   "metadata": {},
   "outputs": [
    {
     "data": {
      "text/plain": [
       "matrix([[3, 4],\n",
       "        [5, 6]])"
      ]
     },
     "execution_count": 15,
     "metadata": {},
     "output_type": "execute_result"
    }
   ],
   "source": [
    "import numpy as np\n",
    "from scipy import linalg, sparse\n",
    "D = np.mat([ [3,4], [5,6] ])\n",
    "D "
   ]
  },
  {
   "cell_type": "code",
   "execution_count": 16,
   "id": "3beca21e",
   "metadata": {},
   "outputs": [
    {
     "data": {
      "text/plain": [
       "matrix([[0.4592499 , 0.95909742, 0.47311882, 0.44165377, 0.90277291,\n",
       "         0.34940971, 0.11688838],\n",
       "        [0.21367785, 0.19619868, 0.19762481, 0.83648044, 0.9393262 ,\n",
       "         0.59365415, 0.4861846 ],\n",
       "        [0.56350788, 0.96109195, 0.91075669, 0.74497092, 0.11745251,\n",
       "         0.13668637, 0.35600806],\n",
       "        [0.48359265, 0.6891821 , 0.34920018, 0.21640732, 0.31222659,\n",
       "         0.56829414, 0.68566603],\n",
       "        [0.80958643, 0.94376776, 0.68954669, 0.41425161, 0.76836533,\n",
       "         0.09632331, 0.06904667]])"
      ]
     },
     "execution_count": 16,
     "metadata": {},
     "output_type": "execute_result"
    }
   ],
   "source": [
    "C = np.mat(np.random.random((5,7)))\n",
    "C"
   ]
  },
  {
   "cell_type": "code",
   "execution_count": 17,
   "id": "d9ae8f02",
   "metadata": {},
   "outputs": [
    {
     "data": {
      "text/plain": [
       "matrix([[0.20888917, 0.90999118],\n",
       "        [0.45490528, 0.1838775 ]])"
      ]
     },
     "execution_count": 17,
     "metadata": {},
     "output_type": "execute_result"
    }
   ],
   "source": [
    "A = np.mat(np.random.random((2,2)))\n",
    "A "
   ]
  },
  {
   "cell_type": "code",
   "execution_count": 18,
   "id": "aaa74be7",
   "metadata": {},
   "outputs": [
    {
     "data": {
      "text/plain": [
       "array([[1.+5.j, 0.+2.j, 0.+3.j],\n",
       "       [4.+0.j, 5.+0.j, 6.+0.j]])"
      ]
     },
     "execution_count": 18,
     "metadata": {},
     "output_type": "execute_result"
    }
   ],
   "source": [
    "b = np.array([(1+5j, 2j, 3j),(4, 5,\n",
    "6)])\n",
    "B = np.asmatrix(b)\n",
    "b\n"
   ]
  },
  {
   "cell_type": "code",
   "execution_count": 19,
   "id": "6416a95e",
   "metadata": {},
   "outputs": [
    {
     "data": {
      "text/plain": [
       "matrix([[1.+5.j, 0.+2.j, 0.+3.j],\n",
       "        [4.+0.j, 5.+0.j, 6.+0.j]])"
      ]
     },
     "execution_count": 19,
     "metadata": {},
     "output_type": "execute_result"
    }
   ],
   "source": [
    "B"
   ]
  },
  {
   "cell_type": "code",
   "execution_count": 20,
   "id": "9bcab0d3",
   "metadata": {},
   "outputs": [
    {
     "data": {
      "text/plain": [
       "matrix([[0.20888917, 0.45490528],\n",
       "        [0.90999118, 0.1838775 ]])"
      ]
     },
     "execution_count": 20,
     "metadata": {},
     "output_type": "execute_result"
    }
   ],
   "source": [
    "A.T "
   ]
  },
  {
   "cell_type": "code",
   "execution_count": 21,
   "id": "65ad36f5",
   "metadata": {},
   "outputs": [
    {
     "data": {
      "text/plain": [
       "matrix([[-0.48962218,  2.42309072],\n",
       "        [ 1.2113049 , -0.55622233]])"
      ]
     },
     "execution_count": 21,
     "metadata": {},
     "output_type": "execute_result"
    }
   ],
   "source": [
    "A.I"
   ]
  },
  {
   "cell_type": "code",
   "execution_count": 22,
   "id": "c1ef0306",
   "metadata": {},
   "outputs": [
    {
     "data": {
      "text/plain": [
       "array([[-0.48962218,  2.42309072],\n",
       "       [ 1.2113049 , -0.55622233]])"
      ]
     },
     "execution_count": 22,
     "metadata": {},
     "output_type": "execute_result"
    }
   ],
   "source": [
    "linalg.inv(A) "
   ]
  },
  {
   "cell_type": "code",
   "execution_count": 23,
   "id": "60468271",
   "metadata": {},
   "outputs": [
    {
     "name": "stdout",
     "output_type": "stream",
     "text": [
      "[[-1  0  0]\n",
      " [ 0 -2  0]\n",
      " [ 1  5 -2]]\n"
     ]
    }
   ],
   "source": [
    "M = np.array([[-1,3,2],[0,-2,1],[1,5,-2]])\n",
    "M_lower = np.tril(M)\n",
    "print(M_lower) "
   ]
  },
  {
   "cell_type": "code",
   "execution_count": 24,
   "id": "4447a0a7",
   "metadata": {},
   "outputs": [
    {
     "name": "stdout",
     "output_type": "stream",
     "text": [
      "[[-1  3  2]\n",
      " [ 0 -2  1]\n",
      " [ 0  0 -2]]\n"
     ]
    }
   ],
   "source": [
    "M = np.array([[-1,3,2],[0,-\n",
    "2,1],[1,5,-2]])\n",
    "M_upper = np.triu(M)\n",
    "print(M_upper) "
   ]
  },
  {
   "cell_type": "code",
   "execution_count": 26,
   "id": "105afa5f",
   "metadata": {},
   "outputs": [
    {
     "name": "stdout",
     "output_type": "stream",
     "text": [
      "[-1 -2 -2]\n"
     ]
    }
   ],
   "source": [
    "M = np.array([[-1,3,2],[0,-\n",
    "2,1],[1,5,-2]])\n",
    "v_diag = np.diag(M) #vector đường chéo\n",
    "print (v_diag)\n"
   ]
  },
  {
   "cell_type": "code",
   "execution_count": 27,
   "id": "d93956fb",
   "metadata": {},
   "outputs": [
    {
     "name": "stdout",
     "output_type": "stream",
     "text": [
      "[[-1  0  0]\n",
      " [ 0 -2  0]\n",
      " [ 0  0 -2]]\n"
     ]
    }
   ],
   "source": [
    "M_diag = np.diag(v_diag) \n",
    "print (M_diag) "
   ]
  },
  {
   "cell_type": "code",
   "execution_count": 28,
   "id": "35be3bf5",
   "metadata": {},
   "outputs": [
    {
     "data": {
      "text/plain": [
       "[(2, 7, -1)]"
      ]
     },
     "execution_count": 28,
     "metadata": {},
     "output_type": "execute_result"
    }
   ],
   "source": [
    "import sympy as sp \n",
    "x = sp.Symbol('x') \n",
    "y = sp.Symbol('y') \n",
    "z = sp.Symbol('z') \n",
    "sp.solve ([x*x+2-6, y-1-6, x+z-1, 2*x*x-8, z*z+4-5,y-z-8],[x, y, z]) "
   ]
  },
  {
   "cell_type": "code",
   "execution_count": 36,
   "id": "5b7a030f",
   "metadata": {},
   "outputs": [
    {
     "data": {
      "text/plain": [
       "False"
      ]
     },
     "execution_count": 36,
     "metadata": {},
     "output_type": "execute_result"
    }
   ],
   "source": [
    "x = [1,2,3] \n",
    "y = [1,2,3] \n",
    "all([x[i]==y[i] for i in range(len(x))]) \n",
    "True \n",
    "y= [1,2,4] \n",
    "all([x[i]==y[i] for i in range(len(x))]) \n",
    "False "
   ]
  },
  {
   "cell_type": "code",
   "execution_count": 35,
   "id": "fd28eb52",
   "metadata": {},
   "outputs": [
    {
     "data": {
      "text/plain": [
       "True"
      ]
     },
     "execution_count": 35,
     "metadata": {},
     "output_type": "execute_result"
    }
   ],
   "source": [
    "import numpy as np \n",
    "np.array_equal([1, 2], [1, 2]) \n",
    "True \n",
    "np.array_equal(np.array([1,2]), np.array([1,2])) \n",
    "True "
   ]
  },
  {
   "cell_type": "code",
   "execution_count": 37,
   "id": "a59199ee",
   "metadata": {},
   "outputs": [
    {
     "data": {
      "text/plain": [
       "array([[ 0.,  1.,  2.,  3.,  4.,  5.],\n",
       "       [ 6.,  7.,  8.,  9., 10., 11.],\n",
       "       [12., 13., 14., 15., 16., 17.],\n",
       "       [18., 19., 20., 21., 22., 23.],\n",
       "       [24., 25., 26., 27., 28., 29.],\n",
       "       [30., 31., 32., 33., 34., 35.]])"
      ]
     },
     "execution_count": 37,
     "metadata": {},
     "output_type": "execute_result"
    }
   ],
   "source": [
    "import numpy as np\n",
    "A = np.reshape(np.arange(36.0), (6,6))\n",
    "A"
   ]
  },
  {
   "cell_type": "code",
   "execution_count": 38,
   "id": "3563d20f",
   "metadata": {},
   "outputs": [
    {
     "data": {
      "text/plain": [
       "array([[1., 0., 0., 0., 0., 0.],\n",
       "       [0., 1., 0., 0., 0., 0.],\n",
       "       [0., 0., 1., 0., 0., 0.],\n",
       "       [0., 0., 0., 1., 0., 0.],\n",
       "       [0., 0., 0., 0., 1., 0.],\n",
       "       [0., 0., 0., 0., 0., 1.]])"
      ]
     },
     "execution_count": 38,
     "metadata": {},
     "output_type": "execute_result"
    }
   ],
   "source": [
    "I6 = np.identity(6)\n",
    "I6"
   ]
  },
  {
   "cell_type": "code",
   "execution_count": 39,
   "id": "f1b80f35",
   "metadata": {},
   "outputs": [
    {
     "data": {
      "text/plain": [
       "36"
      ]
     },
     "execution_count": 39,
     "metadata": {},
     "output_type": "execute_result"
    }
   ],
   "source": [
    "A.size "
   ]
  },
  {
   "cell_type": "code",
   "execution_count": 40,
   "id": "20964c81",
   "metadata": {},
   "outputs": [
    {
     "data": {
      "text/plain": [
       "array([ 0.,  7., 14., 21., 28., 35.])"
      ]
     },
     "execution_count": 40,
     "metadata": {},
     "output_type": "execute_result"
    }
   ],
   "source": [
    "np.matrix.diagonal(A) "
   ]
  },
  {
   "cell_type": "code",
   "execution_count": 41,
   "id": "63cf0bf7",
   "metadata": {},
   "outputs": [
    {
     "data": {
      "text/plain": [
       "array([[ 1.,  1.,  2.,  3.,  4.,  5.],\n",
       "       [ 6.,  8.,  8.,  9., 10., 11.],\n",
       "       [12., 13., 15., 15., 16., 17.],\n",
       "       [18., 19., 20., 22., 22., 23.],\n",
       "       [24., 25., 26., 27., 29., 29.],\n",
       "       [30., 31., 32., 33., 34., 36.]])"
      ]
     },
     "execution_count": 41,
     "metadata": {},
     "output_type": "execute_result"
    }
   ],
   "source": [
    "A = A + I6\n",
    "A"
   ]
  },
  {
   "cell_type": "code",
   "execution_count": 42,
   "id": "05bcbf8f",
   "metadata": {},
   "outputs": [
    {
     "data": {
      "text/plain": [
       "array([ 71., 198., 325., 452., 579., 706.])"
      ]
     },
     "execution_count": 42,
     "metadata": {},
     "output_type": "execute_result"
    }
   ],
   "source": [
    "vecB = np.array([1., 2., 3., 4., 5., 6.])\n",
    "C = A.dot(vecB)\n",
    "C "
   ]
  },
  {
   "cell_type": "code",
   "execution_count": 43,
   "id": "1b56c45e",
   "metadata": {},
   "outputs": [
    {
     "data": {
      "text/plain": [
       "array([[1., 2., 3., 4., 5., 6.],\n",
       "       [1., 0., 1., 0., 1., 0.]])"
      ]
     },
     "execution_count": 43,
     "metadata": {},
     "output_type": "execute_result"
    }
   ],
   "source": [
    "D = np.array([[1., 2., 3., 4., 5., 6.], [1., 0., 1., 0., 1., 0.]])\n",
    "D "
   ]
  },
  {
   "cell_type": "code",
   "execution_count": 46,
   "id": "d15a424b",
   "metadata": {},
   "outputs": [
    {
     "ename": "ValueError",
     "evalue": "shapes (6,6) and (2,6) not aligned: 6 (dim 1) != 2 (dim 0)",
     "output_type": "error",
     "traceback": [
      "\u001b[1;31m---------------------------------------------------------------------------\u001b[0m",
      "\u001b[1;31mValueError\u001b[0m                                Traceback (most recent call last)",
      "Cell \u001b[1;32mIn[46], line 1\u001b[0m\n\u001b[1;32m----> 1\u001b[0m E \u001b[38;5;241m=\u001b[39m \u001b[43mA\u001b[49m\u001b[38;5;241;43m.\u001b[39;49m\u001b[43mdot\u001b[49m\u001b[43m(\u001b[49m\u001b[43mD\u001b[49m\u001b[43m)\u001b[49m\n\u001b[0;32m      2\u001b[0m E \n",
      "\u001b[1;31mValueError\u001b[0m: shapes (6,6) and (2,6) not aligned: 6 (dim 1) != 2 (dim 0)"
     ]
    }
   ],
   "source": [
    "E = A.dot(D)\n",
    "E "
   ]
  },
  {
   "cell_type": "code",
   "execution_count": 51,
   "id": "13a929b6",
   "metadata": {},
   "outputs": [
    {
     "data": {
      "text/plain": [
       "array([[421., 443., 465., 487., 509., 531.],\n",
       "       [ 37.,  39.,  43.,  45.,  49.,  51.]])"
      ]
     },
     "execution_count": 51,
     "metadata": {},
     "output_type": "execute_result"
    }
   ],
   "source": [
    "E = D.dot(A)\n",
    "E"
   ]
  },
  {
   "cell_type": "code",
   "execution_count": 47,
   "id": "c9fdc6f9",
   "metadata": {},
   "outputs": [
    {
     "data": {
      "text/plain": [
       "array([[1., 1.],\n",
       "       [2., 0.],\n",
       "       [3., 1.],\n",
       "       [4., 0.],\n",
       "       [5., 1.],\n",
       "       [6., 0.]])"
      ]
     },
     "execution_count": 47,
     "metadata": {},
     "output_type": "execute_result"
    }
   ],
   "source": [
    "F = np.array([[1., 1.], [2., 0.], [3., 1.], [4., 0], [5., 1], [6., 0.]])\n",
    "G = A.dot(F)\n",
    "F "
   ]
  },
  {
   "cell_type": "code",
   "execution_count": 48,
   "id": "f6547e23",
   "metadata": {},
   "outputs": [
    {
     "data": {
      "text/plain": [
       "array([[ 71.,   7.],\n",
       "       [198.,  24.],\n",
       "       [325.,  43.],\n",
       "       [452.,  60.],\n",
       "       [579.,  79.],\n",
       "       [706.,  96.]])"
      ]
     },
     "execution_count": 48,
     "metadata": {},
     "output_type": "execute_result"
    }
   ],
   "source": [
    "G"
   ]
  },
  {
   "cell_type": "code",
   "execution_count": 49,
   "id": "5a83767c",
   "metadata": {},
   "outputs": [
    {
     "data": {
      "text/plain": [
       "array([[ 0.37022901, -0.45610687, -0.28244275, -0.10877863,  0.0648855 ,\n",
       "         0.23854962],\n",
       "       [-0.44656489,  0.65839695, -0.23664122, -0.13167939, -0.02671756,\n",
       "         0.07824427],\n",
       "       [-0.26335878, -0.22709924,  0.80916031, -0.15458015, -0.11832061,\n",
       "        -0.08206107],\n",
       "       [-0.08015267, -0.11259542, -0.14503817,  0.82251908, -0.20992366,\n",
       "        -0.24236641],\n",
       "       [ 0.10305344,  0.0019084 , -0.09923664, -0.20038168,  0.69847328,\n",
       "        -0.40267176],\n",
       "       [ 0.28625954,  0.11641221, -0.05343511, -0.22328244, -0.39312977,\n",
       "         0.4370229 ]])"
      ]
     },
     "execution_count": 49,
     "metadata": {},
     "output_type": "execute_result"
    }
   ],
   "source": [
    "np.linalg.inv(A) "
   ]
  },
  {
   "cell_type": "code",
   "execution_count": 50,
   "id": "ff19a690",
   "metadata": {},
   "outputs": [
    {
     "data": {
      "text/plain": [
       "array([[ 1.,  1.,  2.,  3.,  4.,  5.],\n",
       "       [ 6.,  8.,  8.,  9., 10., 11.],\n",
       "       [12., 13., 15., 15., 16., 17.],\n",
       "       [18., 19., 20., 22., 22., 23.],\n",
       "       [24., 25., 26., 27., 29., 29.],\n",
       "       [30., 31., 32., 33., 34., 36.]])"
      ]
     },
     "execution_count": 50,
     "metadata": {},
     "output_type": "execute_result"
    }
   ],
   "source": [
    "np.linalg.inv(np.linalg.inv(A)) "
   ]
  },
  {
   "cell_type": "code",
   "execution_count": 54,
   "id": "d84f3ef8",
   "metadata": {},
   "outputs": [
    {
     "name": "stdout",
     "output_type": "stream",
     "text": [
      "[89 55]\n"
     ]
    }
   ],
   "source": [
    "import numpy as np\n",
    "A = np.array( [ [1,1], [1,0] ] )\n",
    "b = np.array([1, 0])\n",
    "n = 10 \n",
    "for i in range(n):\n",
    "    b = A.dot(b)\n",
    "print(b) "
   ]
  },
  {
   "cell_type": "code",
   "execution_count": 55,
   "id": "cb0c5477",
   "metadata": {},
   "outputs": [
    {
     "data": {
      "text/plain": [
       "{x1: x4 + 160, x2: x4 - 80, x3: x4 + 520}"
      ]
     },
     "execution_count": 55,
     "metadata": {},
     "output_type": "execute_result"
    }
   ],
   "source": [
    "import sympy as sp\n",
    "from sympy import Symbol \n",
    "x1 = Symbol('x1')\n",
    "x2 = Symbol('x2')\n",
    "x3 = Symbol('x3')\n",
    "x4 = Symbol('x4')\n",
    "from sympy import solve\n",
    "pt1 = x4+610-450-x1\n",
    "pt2 = x1+400-x2-640\n",
    "pt3 = x2+600-x3\n",
    "pt4 = x3-x4-520\n",
    "nghiem = sp.solve((pt1, pt2, pt3, pt4))\n",
    "nghiem"
   ]
  },
  {
   "cell_type": "code",
   "execution_count": 59,
   "id": "2f9a266d",
   "metadata": {},
   "outputs": [
    {
     "data": {
      "text/plain": [
       "matrix([[-1,  0,  0,  1],\n",
       "        [ 1, -1,  0,  0],\n",
       "        [ 0,  1, -1,  0],\n",
       "        [ 0,  0,  1, -1]])"
      ]
     },
     "execution_count": 59,
     "metadata": {},
     "output_type": "execute_result"
    }
   ],
   "source": [
    "import numpy as np\n",
    "A = np.matrix([[-1,0,0,1],[1,-1,0,0],[0,1,-1,0],[0,0,1,-1]]) \n",
    "A\n"
   ]
  },
  {
   "cell_type": "code",
   "execution_count": 60,
   "id": "c56019ef",
   "metadata": {},
   "outputs": [
    {
     "ename": "LinAlgError",
     "evalue": "Singular matrix",
     "output_type": "error",
     "traceback": [
      "\u001b[1;31m---------------------------------------------------------------------------\u001b[0m",
      "\u001b[1;31mLinAlgError\u001b[0m                               Traceback (most recent call last)",
      "Cell \u001b[1;32mIn[60], line 1\u001b[0m\n\u001b[1;32m----> 1\u001b[0m A_nghichdao \u001b[38;5;241m=\u001b[39m \u001b[43mnp\u001b[49m\u001b[38;5;241;43m.\u001b[39;49m\u001b[43mlinalg\u001b[49m\u001b[38;5;241;43m.\u001b[39;49m\u001b[43minv\u001b[49m\u001b[43m(\u001b[49m\u001b[43mA\u001b[49m\u001b[43m)\u001b[49m\n\u001b[0;32m      2\u001b[0m A_nghichdao\n",
      "File \u001b[1;32mc:\\Users\\ACER\\AppData\\Local\\Programs\\Python\\Python311\\Lib\\site-packages\\numpy\\linalg\\linalg.py:561\u001b[0m, in \u001b[0;36minv\u001b[1;34m(a)\u001b[0m\n\u001b[0;32m    559\u001b[0m signature \u001b[38;5;241m=\u001b[39m \u001b[38;5;124m'\u001b[39m\u001b[38;5;124mD->D\u001b[39m\u001b[38;5;124m'\u001b[39m \u001b[38;5;28;01mif\u001b[39;00m isComplexType(t) \u001b[38;5;28;01melse\u001b[39;00m \u001b[38;5;124m'\u001b[39m\u001b[38;5;124md->d\u001b[39m\u001b[38;5;124m'\u001b[39m\n\u001b[0;32m    560\u001b[0m extobj \u001b[38;5;241m=\u001b[39m get_linalg_error_extobj(_raise_linalgerror_singular)\n\u001b[1;32m--> 561\u001b[0m ainv \u001b[38;5;241m=\u001b[39m \u001b[43m_umath_linalg\u001b[49m\u001b[38;5;241;43m.\u001b[39;49m\u001b[43minv\u001b[49m\u001b[43m(\u001b[49m\u001b[43ma\u001b[49m\u001b[43m,\u001b[49m\u001b[43m \u001b[49m\u001b[43msignature\u001b[49m\u001b[38;5;241;43m=\u001b[39;49m\u001b[43msignature\u001b[49m\u001b[43m,\u001b[49m\u001b[43m \u001b[49m\u001b[43mextobj\u001b[49m\u001b[38;5;241;43m=\u001b[39;49m\u001b[43mextobj\u001b[49m\u001b[43m)\u001b[49m\n\u001b[0;32m    562\u001b[0m \u001b[38;5;28;01mreturn\u001b[39;00m wrap(ainv\u001b[38;5;241m.\u001b[39mastype(result_t, copy\u001b[38;5;241m=\u001b[39m\u001b[38;5;28;01mFalse\u001b[39;00m))\n",
      "File \u001b[1;32mc:\\Users\\ACER\\AppData\\Local\\Programs\\Python\\Python311\\Lib\\site-packages\\numpy\\linalg\\linalg.py:112\u001b[0m, in \u001b[0;36m_raise_linalgerror_singular\u001b[1;34m(err, flag)\u001b[0m\n\u001b[0;32m    111\u001b[0m \u001b[38;5;28;01mdef\u001b[39;00m \u001b[38;5;21m_raise_linalgerror_singular\u001b[39m(err, flag):\n\u001b[1;32m--> 112\u001b[0m     \u001b[38;5;28;01mraise\u001b[39;00m LinAlgError(\u001b[38;5;124m\"\u001b[39m\u001b[38;5;124mSingular matrix\u001b[39m\u001b[38;5;124m\"\u001b[39m)\n",
      "\u001b[1;31mLinAlgError\u001b[0m: Singular matrix"
     ]
    }
   ],
   "source": [
    "A_nghichdao = np.linalg.inv(A)\n",
    "A_nghichdao"
   ]
  }
 ],
 "metadata": {
  "kernelspec": {
   "display_name": "Python 3",
   "language": "python",
   "name": "python3"
  },
  "language_info": {
   "codemirror_mode": {
    "name": "ipython",
    "version": 3
   },
   "file_extension": ".py",
   "mimetype": "text/x-python",
   "name": "python",
   "nbconvert_exporter": "python",
   "pygments_lexer": "ipython3",
   "version": "3.11.0"
  }
 },
 "nbformat": 4,
 "nbformat_minor": 5
}
