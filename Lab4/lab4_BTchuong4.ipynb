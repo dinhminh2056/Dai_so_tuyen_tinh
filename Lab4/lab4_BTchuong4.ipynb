{
 "cells": [
  {
   "cell_type": "code",
   "execution_count": 1,
   "id": "41aa5585",
   "metadata": {},
   "outputs": [
    {
     "data": {
      "text/plain": [
       "-1"
      ]
     },
     "execution_count": 1,
     "metadata": {},
     "output_type": "execute_result"
    }
   ],
   "source": [
    "import numpy as np \n",
    "n = 4 \n",
    "X = np.array(range(1,n+1)) \n",
    "sigma = np.array([4,3,2,1]) \n",
    "def sgn_by_def(sigma): \n",
    "    ket_qua = 1.0 \n",
    "    for i in range (len (X)-1): \n",
    "        for j in range(i+1,len(X)): \n",
    "            ket_qua = ket_qua * ((X[i]-X[j])/(sigma[i]-sigma[j])) \n",
    "    return int (ket_qua) \n",
    "\n",
    "sigma = np.array([2,1,3,4]) \n",
    "sgn_by_def(sigma)"
   ]
  },
  {
   "cell_type": "code",
   "execution_count": 2,
   "id": "1e4dd8e1",
   "metadata": {},
   "outputs": [
    {
     "data": {
      "text/plain": [
       "1"
      ]
     },
     "execution_count": 2,
     "metadata": {},
     "output_type": "execute_result"
    }
   ],
   "source": [
    "sigma = np.array([1,2,3,4]) \n",
    "sgn_by_def(sigma) "
   ]
  },
  {
   "cell_type": "code",
   "execution_count": 3,
   "id": "c85ef063",
   "metadata": {},
   "outputs": [
    {
     "data": {
      "text/plain": [
       "1"
      ]
     },
     "execution_count": 3,
     "metadata": {},
     "output_type": "execute_result"
    }
   ],
   "source": [
    "sigma = np.array([4,3,2,1]) \n",
    "sgn_by_def(sigma) "
   ]
  },
  {
   "cell_type": "code",
   "execution_count": 4,
   "id": "6774a82e",
   "metadata": {},
   "outputs": [
    {
     "name": "stdout",
     "output_type": "stream",
     "text": [
      "[(1, 2, 3), (1, 3, 2), (2, 1, 3), (2, 3, 1), (3, 1, 2), (3, 2, 1)]\n"
     ]
    }
   ],
   "source": [
    "from itertools import permutations \n",
    "n = 3 \n",
    "X = [] \n",
    "for i in range (1, n+1): \n",
    "    X.append(i) \n",
    "Sn = list(permutations(X))    #  tạo hoán vị của tập X \n",
    "print (Sn) "
   ]
  },
  {
   "cell_type": "code",
   "execution_count": 5,
   "id": "ce600a9f",
   "metadata": {},
   "outputs": [],
   "source": [
    "def phatsinh_dinhthuc (n): \n",
    "    X = [] \n",
    "    for i in range (1, n+1): \n",
    "            X.append(i) \n",
    "    Sn = list (permutations (X)) \n",
    "    dinhthuc = \" \" \n",
    "    for sn in Sn: \n",
    "            sigma = np.array([1]) \n",
    "            sigma.resize([n]) \n",
    "            product = \"\"\n",
    "            for i in range(1,n+1): \n",
    "                    sigma [sn.index(i)] = i \n",
    "                    product = product + \"a\"+str(i)+str(sn.index(i)+1) \n",
    "            dau = sgn_by_def (sigma) \n",
    "            if (dau != 1): \n",
    "                    product = \" _ \" + product \n",
    "            else: \n",
    "                    product = \" + \" + product \n",
    "            dinhthuc = dinhthuc + product \n",
    "    return dinhthuc"
   ]
  },
  {
   "cell_type": "code",
   "execution_count": 6,
   "id": "d1c1aba2",
   "metadata": {},
   "outputs": [
    {
     "ename": "IndexError",
     "evalue": "index 2 is out of bounds for axis 0 with size 2",
     "output_type": "error",
     "traceback": [
      "\u001b[1;31m---------------------------------------------------------------------------\u001b[0m",
      "\u001b[1;31mIndexError\u001b[0m                                Traceback (most recent call last)",
      "Cell \u001b[1;32mIn[6], line 1\u001b[0m\n\u001b[1;32m----> 1\u001b[0m \u001b[43mphatsinh_dinhthuc\u001b[49m\u001b[43m(\u001b[49m\u001b[38;5;241;43m2\u001b[39;49m\u001b[43m)\u001b[49m\n",
      "Cell \u001b[1;32mIn[5], line 14\u001b[0m, in \u001b[0;36mphatsinh_dinhthuc\u001b[1;34m(n)\u001b[0m\n\u001b[0;32m     12\u001b[0m         sigma [sn\u001b[38;5;241m.\u001b[39mindex(i)] \u001b[38;5;241m=\u001b[39m i \n\u001b[0;32m     13\u001b[0m         product \u001b[38;5;241m=\u001b[39m product \u001b[38;5;241m+\u001b[39m \u001b[38;5;124m\"\u001b[39m\u001b[38;5;124ma\u001b[39m\u001b[38;5;124m\"\u001b[39m\u001b[38;5;241m+\u001b[39m\u001b[38;5;28mstr\u001b[39m(i)\u001b[38;5;241m+\u001b[39m\u001b[38;5;28mstr\u001b[39m(sn\u001b[38;5;241m.\u001b[39mindex(i)\u001b[38;5;241m+\u001b[39m\u001b[38;5;241m1\u001b[39m) \n\u001b[1;32m---> 14\u001b[0m dau \u001b[38;5;241m=\u001b[39m \u001b[43msgn_by_def\u001b[49m\u001b[43m \u001b[49m\u001b[43m(\u001b[49m\u001b[43msigma\u001b[49m\u001b[43m)\u001b[49m \n\u001b[0;32m     15\u001b[0m \u001b[38;5;28;01mif\u001b[39;00m (dau \u001b[38;5;241m!=\u001b[39m \u001b[38;5;241m1\u001b[39m): \n\u001b[0;32m     16\u001b[0m         product \u001b[38;5;241m=\u001b[39m \u001b[38;5;124m\"\u001b[39m\u001b[38;5;124m _ \u001b[39m\u001b[38;5;124m\"\u001b[39m \u001b[38;5;241m+\u001b[39m product \n",
      "Cell \u001b[1;32mIn[1], line 9\u001b[0m, in \u001b[0;36msgn_by_def\u001b[1;34m(sigma)\u001b[0m\n\u001b[0;32m      7\u001b[0m \u001b[38;5;28;01mfor\u001b[39;00m i \u001b[38;5;129;01min\u001b[39;00m \u001b[38;5;28mrange\u001b[39m (\u001b[38;5;28mlen\u001b[39m (X)\u001b[38;5;241m-\u001b[39m\u001b[38;5;241m1\u001b[39m): \n\u001b[0;32m      8\u001b[0m     \u001b[38;5;28;01mfor\u001b[39;00m j \u001b[38;5;129;01min\u001b[39;00m \u001b[38;5;28mrange\u001b[39m(i\u001b[38;5;241m+\u001b[39m\u001b[38;5;241m1\u001b[39m,\u001b[38;5;28mlen\u001b[39m(X)): \n\u001b[1;32m----> 9\u001b[0m         ket_qua \u001b[38;5;241m=\u001b[39m ket_qua \u001b[38;5;241m*\u001b[39m ((X[i]\u001b[38;5;241m-\u001b[39mX[j])\u001b[38;5;241m/\u001b[39m(sigma[i]\u001b[38;5;241m-\u001b[39m\u001b[43msigma\u001b[49m\u001b[43m[\u001b[49m\u001b[43mj\u001b[49m\u001b[43m]\u001b[49m)) \n\u001b[0;32m     10\u001b[0m \u001b[38;5;28;01mreturn\u001b[39;00m \u001b[38;5;28mint\u001b[39m (ket_qua)\n",
      "\u001b[1;31mIndexError\u001b[0m: index 2 is out of bounds for axis 0 with size 2"
     ]
    }
   ],
   "source": [
    "phatsinh_dinhthuc(2)\n"
   ]
  },
  {
   "cell_type": "code",
   "execution_count": 7,
   "id": "3082f403",
   "metadata": {},
   "outputs": [
    {
     "data": {
      "text/plain": [
       "'  + a11a22a33 _ a11a23a32 _ a12a21a33 + a13a21a32 + a12a23a31 _ a13a22a31'"
      ]
     },
     "execution_count": 7,
     "metadata": {},
     "output_type": "execute_result"
    }
   ],
   "source": [
    "phatsinh_dinhthuc(3) "
   ]
  },
  {
   "cell_type": "code",
   "execution_count": 9,
   "id": "96744ff5",
   "metadata": {},
   "outputs": [],
   "source": [
    "def tinhtoan_dinhthuc(A):\n",
    "    X = []\n",
    "    import math # <-- bổ sung để sử dụng sqrt\n",
    "    n = int(math.sqrt(A.size)) # <-- với ma trận vuông, kích thước là căn số\n",
    "    for i in range(1, n+1):\n",
    "        X.append(i)\n",
    "    Sn = list(permutations(X))\n",
    "    dinhthuc = 0 # ban đầu giá trị định thức là 0\n",
    "    for sn in Sn:\n",
    "        sigma = np.array([1])\n",
    "        sigma.resize([n])\n",
    "        product = 1 # đặt giá trị cho tích ban đầu là 1\n",
    "        for i in range(1,n+1):\n",
    "            sigma[sn.index(i)] = i\n",
    "            product = product * A[i-1][sn.index(i)] # lưu ý chỉ số\n",
    "            #print (A[i-1][sn.index(i)])\n",
    "        dau = sgn_by_def(sigma)\n",
    "        if (dau != 1): # không xét trường hợp dấu = 1\n",
    "            product = product * (-1) # khi dấu = -1 thì nhân với -1\n",
    "        dinhthuc = dinhthuc + product\n",
    "    return dinhthuc"
   ]
  },
  {
   "cell_type": "code",
   "execution_count": 11,
   "id": "a973942a",
   "metadata": {},
   "outputs": [
    {
     "data": {
      "text/plain": [
       "85"
      ]
     },
     "execution_count": 11,
     "metadata": {},
     "output_type": "execute_result"
    }
   ],
   "source": [
    "A = matran = np.array([ [3,5,-8], [4, 12, -1], [2,5,3] ]) \n",
    "tinhtoan_dinhthuc(A) "
   ]
  },
  {
   "cell_type": "code",
   "execution_count": 12,
   "id": "d1d5cbe6",
   "metadata": {},
   "outputs": [
    {
     "name": "stdout",
     "output_type": "stream",
     "text": [
      "-14.0 -28.0 14.000000000000004\n"
     ]
    }
   ],
   "source": [
    "import numpy as np\n",
    "A = np.array([[4, -2],[3, -5]]) # khai báo ma trận A\n",
    "A1 = np.array([[10, -2],[11, -5]])\n",
    "A2 = np.array([[4, 10],[3, 11]])\n",
    "from scipy import linalg # lưu ý: hàm tính định thức của ma trận là scipy.linalg.det(A)\n",
    "detA = linalg.det(A) # tính định thức cho ma trận A\n",
    "detA1 = linalg.det(A1) \n",
    "detA2 = linalg.det(A2)\n",
    "print (detA, detA1, detA2)"
   ]
  },
  {
   "cell_type": "code",
   "execution_count": 13,
   "id": "88ee7ac5",
   "metadata": {},
   "outputs": [
    {
     "name": "stdout",
     "output_type": "stream",
     "text": [
      "Hai nghiệm của phương trình là:  2.0 -1.0000000000000002\n"
     ]
    }
   ],
   "source": [
    "if (detA != 0):\n",
    "    x1 = detA1 / detA\n",
    "    x2 = detA2 / detA\n",
    "    print (\"Hai nghiệm của phương trình là: \", x1, x2)"
   ]
  },
  {
   "cell_type": "code",
   "execution_count": null,
   "id": "f88798ed",
   "metadata": {},
   "outputs": [
    {
     "name": "stdout",
     "output_type": "stream",
     "text": [
      "Kết quả tính toán định thức sử dụng hàm tinhtoan_dinhthuc():\n",
      "det(A) = -14\n",
      "det(A1) = -28\n",
      "det(A2) = 14\n"
     ]
    }
   ],
   "source": [
    "import numpy as np\n",
    "import math\n",
    "from itertools import permutations\n",
    "\n",
    "def sgn_by_def(p):\n",
    "    inversions = 0\n",
    "    n = len(p)\n",
    "    for i in range(n):\n",
    "        for j in range(i + 1, n):\n",
    "            if p[i] > p[j]:\n",
    "                inversions += 1\n",
    "    return 1 if (inversions % 2 == 0) else -1\n",
    "\n",
    "def tinhtoan_dinhthuc(A_mat):\n",
    "    X = []\n",
    "    n = int(math.sqrt(A_mat.size))\n",
    "\n",
    "    for i in range(1, n + 1):\n",
    "        X.append(i)\n",
    "\n",
    "    Sn = list(permutations(X))\n",
    "\n",
    "    dinhthuc = 0\n",
    "\n",
    "    for sn in Sn:\n",
    "        temp_sigma_for_sgn = np.zeros(n, dtype=int)\n",
    "        current_product = 1\n",
    "\n",
    "        for i_val in range(1, n + 1):\n",
    "            row_idx = i_val - 1\n",
    "            col_idx = sn.index(i_val)\n",
    "\n",
    "            current_product *= A_mat[row_idx][col_idx]\n",
    "            temp_sigma_for_sgn[col_idx] = i_val\n",
    "\n",
    "        dau = sgn_by_def(temp_sigma_for_sgn)\n",
    "\n",
    "        if (dau != 1):\n",
    "            current_product = current_product * (-1)\n",
    "        \n",
    "        dinhthuc = dinhthuc + current_product\n",
    "        \n",
    "    return dinhthuc\n",
    "\n",
    "A = np.array([[4, -2], [3, -5]])\n",
    "A1 = np.array([[10, -2], [11, -5]])\n",
    "A2 = np.array([[4, 10], [3, 11]])\n",
    "\n",
    "detA_custom = tinhtoan_dinhthuc(A)\n",
    "detA1_custom = tinhtoan_dinhthuc(A1)\n",
    "detA2_custom = tinhtoan_dinhthuc(A2)\n",
    "\n",
    "print(f\"det(A) = {detA_custom}\")\n",
    "print(f\"det(A1) = {detA1_custom}\")\n",
    "print(f\"det(A2) = {detA2_custom}\")"
   ]
  },
  {
   "cell_type": "code",
   "execution_count": 37,
   "id": "a9f3ce1b",
   "metadata": {},
   "outputs": [
    {
     "name": "stdout",
     "output_type": "stream",
     "text": [
      "Hệ có vô số nghiệm\n"
     ]
    }
   ],
   "source": [
    "import numpy as np\n",
    "A = np.array([[-1, 2, -3],\n",
    "              [2, -2, 1],\n",
    "              [3, -4, 4]])\n",
    "\n",
    "b = np.array([1, 3, 2])\n",
    "\n",
    "rank_A = np.linalg.matrix_rank(A)\n",
    "augmented_matrix = np.column_stack((A, b))\n",
    "rank_augmented = np.linalg.matrix_rank(augmented_matrix)\n",
    "if rank_A == rank_augmented:\n",
    "    if rank_A == A.shape[1]:\n",
    "        solution = np.linalg.solve(A, b)\n",
    "        print(\"Hệ có nghiệm duy nhất:\")\n",
    "        print(f\"a = {solution[0]}\")\n",
    "        print(f\"e = {solution[1]}\")\n",
    "        print(f\"f = {solution[2]}\")\n",
    "    else:\n",
    "        print(\"Hệ có vô số nghiệm\")\n",
    "else:\n",
    "    print(\"Hệ vô nghiệm\")"
   ]
  },
  {
   "cell_type": "code",
   "execution_count": 22,
   "id": "22e3261a",
   "metadata": {},
   "outputs": [
    {
     "data": {
      "text/latex": [
       "$\\displaystyle 1.5$"
      ],
      "text/plain": [
       "1.50000000000000"
      ]
     },
     "execution_count": 22,
     "metadata": {},
     "output_type": "execute_result"
    }
   ],
   "source": [
    "import sympy as sp\n",
    "TG = sp.Matrix([[1, 0, 1],[4, 3, 1], [2, 2, 1]])\n",
    "1/2*TG.det() "
   ]
  },
  {
   "cell_type": "code",
   "execution_count": 26,
   "id": "6c3ff26f",
   "metadata": {},
   "outputs": [
    {
     "data": {
      "text/latex": [
       "$\\displaystyle -12.0$"
      ],
      "text/plain": [
       "-12.0000000000000"
      ]
     },
     "execution_count": 26,
     "metadata": {},
     "output_type": "execute_result"
    }
   ],
   "source": [
    "import sympy as sp \n",
    "M = sp.Matrix([[0, 4, 1, 1], [4, 0, 0, 1], [3, 5, 2, 1], [2, 2, 5, 1]]) \n",
    "1/6*M.det() "
   ]
  },
  {
   "cell_type": "code",
   "execution_count": 28,
   "id": "c2e47bd1",
   "metadata": {},
   "outputs": [
    {
     "data": {
      "text/latex": [
       "$\\displaystyle - 4 x + 3 y - 5 z - 3$"
      ],
      "text/plain": [
       "-4*x + 3*y - 5*z - 3"
      ]
     },
     "execution_count": 28,
     "metadata": {},
     "output_type": "execute_result"
    }
   ],
   "source": [
    "from sympy import *  # lúc này ta sử dụng trực tiếp thư viện \n",
    "x, y, z = symbols('x y z') \n",
    "MP = Matrix([[x, y, z, 1],[-1, 3, 2, 1],[0, 1, 0, 1],[-2, 0, \n",
    "1, 1]]) \n",
    "MP.det()\n"
   ]
  },
  {
   "cell_type": "code",
   "execution_count": 1,
   "id": "d4aec88d",
   "metadata": {},
   "outputs": [
    {
     "name": "stdout",
     "output_type": "stream",
     "text": [
      "Ma trận gốc A:\n",
      "[[ 3  0  2]\n",
      " [ 2  0 -2]\n",
      " [ 0  1  1]]\n",
      "\n",
      "Ma trận hệ số kép (Cofactor Matrix):\n",
      "[[ 2. -2.  2.]\n",
      " [ 2.  3. -3.]\n",
      " [ 0. 10.  0.]]\n"
     ]
    }
   ],
   "source": [
    "#BT chuong 4:\n",
    "#cau1 a:\n",
    "import numpy as np\n",
    "\n",
    "def minor(matrix, i, j):\n",
    "    \"\"\"Tính định thức của ma trận con sau khi loại hàng i và cột j\"\"\"\n",
    "    sub_matrix = np.delete(np.delete(matrix, i, axis=0), j, axis=1)\n",
    "    return np.linalg.det(sub_matrix)\n",
    "\n",
    "def cofactor_matrix(matrix):\n",
    "    \"\"\"Tính ma trận hệ số kép\"\"\"\n",
    "    n = matrix.shape[0]\n",
    "    cofactors = np.zeros_like(matrix, dtype=float)\n",
    "\n",
    "    for i in range(n):\n",
    "        for j in range(n):\n",
    "            sign = (-1) ** (i + j)\n",
    "            cofactors[i, j] = sign * minor(matrix, i, j)\n",
    "\n",
    "    return cofactors\n",
    "\n",
    "# --- Ví dụ ---\n",
    "A = np.array([[3, 0, 2],\n",
    "              [2, 0, -2],\n",
    "              [0, 1, 1]])\n",
    "\n",
    "print(\"Ma trận gốc A:\")\n",
    "print(A)\n",
    "\n",
    "cof_matrix = cofactor_matrix(A)\n",
    "print(\"\\nMa trận hệ số kép (Cofactor Matrix):\")\n",
    "print(cof_matrix)\n"
   ]
  },
  {
   "cell_type": "code",
   "execution_count": 3,
   "id": "fbde4f91",
   "metadata": {},
   "outputs": [
    {
     "name": "stdout",
     "output_type": "stream",
     "text": [
      "Ma trận gốc A:\n",
      "[[ 3  0  2]\n",
      " [ 2  0 -2]\n",
      " [ 0  1  1]]\n",
      "\n",
      "Ma trận liên hợp (Adjoint Matrix):\n",
      "[[ 2.  2.  0.]\n",
      " [-2.  3. 10.]\n",
      " [ 2. -3.  0.]]\n"
     ]
    }
   ],
   "source": [
    "#b\n",
    "import numpy as np\n",
    "\n",
    "def minor(matrix, i, j):\n",
    "    \"\"\"Tính định thức của ma trận con sau khi loại hàng i và cột j\"\"\"\n",
    "    sub_matrix = np.delete(np.delete(matrix, i, axis=0), j, axis=1)\n",
    "    return np.linalg.det(sub_matrix)\n",
    "\n",
    "def cofactor_matrix(matrix):\n",
    "    \"\"\"Tính ma trận hệ số kép\"\"\"\n",
    "    n = matrix.shape[0]\n",
    "    cofactors = np.zeros_like(matrix, dtype=float)\n",
    "\n",
    "    for i in range(n):\n",
    "        for j in range(n):\n",
    "            sign = (-1) ** (i + j)\n",
    "            cofactors[i, j] = sign * minor(matrix, i, j)\n",
    "\n",
    "    return cofactors\n",
    "\n",
    "def adjoint_matrix(matrix):\n",
    "    \"\"\"Tính ma trận liên hợp (adjoint) bằng cách chuyển vị ma trận hệ số kép\"\"\"\n",
    "    cof_matrix = cofactor_matrix(matrix)\n",
    "    return cof_matrix.T\n",
    "\n",
    "# --- Ví dụ ---\n",
    "A = np.array([[3, 0, 2],\n",
    "              [2, 0, -2],\n",
    "              [0, 1, 1]])\n",
    "\n",
    "print(\"Ma trận gốc A:\")\n",
    "print(A)\n",
    "\n",
    "adj_matrix = adjoint_matrix(A)\n",
    "print(\"\\nMa trận liên hợp (Adjoint Matrix):\")\n",
    "print(adj_matrix)\n"
   ]
  }
 ],
 "metadata": {
  "kernelspec": {
   "display_name": "Python 3",
   "language": "python",
   "name": "python3"
  },
  "language_info": {
   "codemirror_mode": {
    "name": "ipython",
    "version": 3
   },
   "file_extension": ".py",
   "mimetype": "text/x-python",
   "name": "python",
   "nbconvert_exporter": "python",
   "pygments_lexer": "ipython3",
   "version": "3.11.0"
  }
 },
 "nbformat": 4,
 "nbformat_minor": 5
}
