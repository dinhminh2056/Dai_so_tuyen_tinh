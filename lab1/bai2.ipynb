{
 "cells": [
  {
   "cell_type": "code",
   "execution_count": 5,
   "id": "0bb4805a",
   "metadata": {},
   "outputs": [
    {
     "data": {
      "text/plain": [
       "[{x: -8}, {x: -1}]"
      ]
     },
     "execution_count": 5,
     "metadata": {},
     "output_type": "execute_result"
    }
   ],
   "source": [
    "from sympy import solve, Symbol\n",
    "x = Symbol('x')\n",
    "ptb2 = x**2 + 9*x +8\n",
    "solve(ptb2, dict = True) "
   ]
  },
  {
   "cell_type": "code",
   "execution_count": 6,
   "id": "65e7bde7",
   "metadata": {},
   "outputs": [
    {
     "data": {
      "text/plain": [
       "[{x: -1/2 - sqrt(39)*I/2}, {x: -1/2 + sqrt(39)*I/2}]"
      ]
     },
     "execution_count": 6,
     "metadata": {},
     "output_type": "execute_result"
    }
   ],
   "source": [
    "ptb2 = x**2 + 1*x + 10\n",
    "nghiemx = solve(ptb2, dict = True)\n",
    "nghiemx "
   ]
  },
  {
   "cell_type": "code",
   "execution_count": null,
   "id": "eb1bf89e",
   "metadata": {},
   "outputs": [],
   "source": []
  }
 ],
 "metadata": {
  "kernelspec": {
   "display_name": "Python 3",
   "language": "python",
   "name": "python3"
  },
  "language_info": {
   "codemirror_mode": {
    "name": "ipython",
    "version": 3
   },
   "file_extension": ".py",
   "mimetype": "text/x-python",
   "name": "python",
   "nbconvert_exporter": "python",
   "pygments_lexer": "ipython3",
   "version": "3.11.0"
  }
 },
 "nbformat": 4,
 "nbformat_minor": 5
}
