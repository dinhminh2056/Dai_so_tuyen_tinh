{
 "cells": [
  {
   "cell_type": "code",
   "execution_count": 3,
   "id": "f18e17be",
   "metadata": {},
   "outputs": [
    {
     "data": {
      "text/plain": [
       "[1.0, 3.0, 5.0, 7.0]"
      ]
     },
     "execution_count": 3,
     "metadata": {},
     "output_type": "execute_result"
    }
   ],
   "source": [
    "danhsach1 = [1. , 3.]\n",
    "danhsach2 = [5. , 7.]\n",
    "danhsach = danhsach1 + danhsach2 \n",
    "danhsach"
   ]
  },
  {
   "cell_type": "code",
   "execution_count": 4,
   "id": "1cfb8467",
   "metadata": {},
   "outputs": [
    {
     "data": {
      "text/plain": [
       "[1.0, 3.0, 5.0, 7.0, 1.0, 3.0, 5.0, 7.0]"
      ]
     },
     "execution_count": 4,
     "metadata": {},
     "output_type": "execute_result"
    }
   ],
   "source": [
    "danhsach1 = [1. , 3.]\n",
    "danhsach2 = [5. , 7.]\n",
    "danhsach = danhsach1 + danhsach2 \n",
    "danhsach_gapdoi = 2 * danhsach\n",
    "danhsach_gapdoi"
   ]
  },
  {
   "cell_type": "code",
   "execution_count": 2,
   "id": "49fdde0a",
   "metadata": {},
   "outputs": [
    {
     "name": "stdout",
     "output_type": "stream",
     "text": [
      "[1.0, 3.0, 5.0, 7.0, 1.0, 3.0, 5.0, 7.0]\n"
     ]
    }
   ],
   "source": [
    "danhsach1 = [1. , 3.]\n",
    "danhsach2 = [5. , 7.]\n",
    "danhsach = danhsach1 + danhsach2 \n",
    "print(danhsach*2)"
   ]
  },
  {
   "cell_type": "code",
   "execution_count": 1,
   "id": "10697503",
   "metadata": {},
   "outputs": [
    {
     "ename": "TypeError",
     "evalue": "unsupported operand type(s) for /: 'list' and 'int'",
     "output_type": "error",
     "traceback": [
      "\u001b[1;31m---------------------------------------------------------------------------\u001b[0m",
      "\u001b[1;31mTypeError\u001b[0m                                 Traceback (most recent call last)",
      "Cell \u001b[1;32mIn[1], line 4\u001b[0m\n\u001b[0;32m      2\u001b[0m danhsach2 \u001b[38;5;241m=\u001b[39m [\u001b[38;5;241m5.\u001b[39m , \u001b[38;5;241m7.\u001b[39m]\n\u001b[0;32m      3\u001b[0m danhsach \u001b[38;5;241m=\u001b[39m danhsach1 \u001b[38;5;241m+\u001b[39m danhsach2 \n\u001b[1;32m----> 4\u001b[0m \u001b[43mdanhsach\u001b[49m\u001b[43m \u001b[49m\u001b[38;5;241;43m/\u001b[39;49m\u001b[43m \u001b[49m\u001b[38;5;241;43m2\u001b[39;49m \n\u001b[0;32m      5\u001b[0m danhsach\n",
      "\u001b[1;31mTypeError\u001b[0m: unsupported operand type(s) for /: 'list' and 'int'"
     ]
    }
   ],
   "source": [
    "danhsach1 = [1. , 3.]\n",
    "danhsach2 = [5. , 7.]\n",
    "danhsach = danhsach1 + danhsach2 \n",
    "danhsach / 2 \n",
    "danhsach"
   ]
  },
  {
   "cell_type": "code",
   "execution_count": 3,
   "id": "ccf4f444",
   "metadata": {},
   "outputs": [
    {
     "data": {
      "text/plain": [
       "<zip at 0x248dd68d540>"
      ]
     },
     "execution_count": 3,
     "metadata": {},
     "output_type": "execute_result"
    }
   ],
   "source": [
    "mon_hoc = [\"ToanCC\", \"DSTT\", \"ToanRR\", \"LaptrinhCB\"] \n",
    "thu_tu = [2, 3, 4, 1] \n",
    "diem_so = [10, 9, 8, 7] \n",
    "anh_xa = zip(thu_tu, mon_hoc, diem_so) \n",
    "anh_xa \n"
   ]
  },
  {
   "cell_type": "code",
   "execution_count": 4,
   "id": "cefd2628",
   "metadata": {},
   "outputs": [
    {
     "data": {
      "text/plain": [
       "{(1, 'LaptrinhCB', 7), (2, 'ToanCC', 10), (3, 'DSTT', 9), (4, 'ToanRR', 8)}"
      ]
     },
     "execution_count": 4,
     "metadata": {},
     "output_type": "execute_result"
    }
   ],
   "source": [
    "tap_hop = set(anh_xa)              # chuyển thành dạng tập hợp \n",
    "tap_hop "
   ]
  },
  {
   "cell_type": "code",
   "execution_count": 7,
   "id": "c160e423",
   "metadata": {},
   "outputs": [
    {
     "data": {
      "text/plain": [
       "('ToanCC', 'DSTT', 'ToanRR', 'LaptrinhCB')"
      ]
     },
     "execution_count": 7,
     "metadata": {},
     "output_type": "execute_result"
    }
   ],
   "source": [
    "mon_hoc = [\"ToanCC\", \"DSTT\", \"ToanRR\", \"LaptrinhCB\"] \n",
    "thu_tu = [2, 3, 4, 1] \n",
    "diem_so = [10, 9, 8, 7] \n",
    "anh_xa = zip(thu_tu, mon_hoc, diem_so) \n",
    "anh_xa \n",
    "lay_TT, lay_monhoc , lay_diem = zip(*anh_xa) \n",
    "lay_monhoc "
   ]
  },
  {
   "cell_type": "code",
   "execution_count": 8,
   "id": "7ecac0b2",
   "metadata": {},
   "outputs": [
    {
     "data": {
      "text/plain": [
       "[0, 1, 2, 3, 5, 6, 7, 8, 9, 15, 16, 17, 18, 19]"
      ]
     },
     "execution_count": 8,
     "metadata": {},
     "output_type": "execute_result"
    }
   ],
   "source": [
    "import itertools\n",
    "tap_sinh = list(itertools.chain(range(4), range(5, 10), range(15, 20)))\n",
    "tap_sinh"
   ]
  },
  {
   "cell_type": "code",
   "execution_count": 9,
   "id": "6d994cd3",
   "metadata": {},
   "outputs": [
    {
     "data": {
      "text/plain": [
       "[(0, 7, 10), (1, 8, 9), (2, 9, 8), (3, 10, 7)]"
      ]
     },
     "execution_count": 9,
     "metadata": {},
     "output_type": "execute_result"
    }
   ],
   "source": [
    "list(zip(range(4), range(7, 12), reversed(range(11) ) ) ) "
   ]
  },
  {
   "cell_type": "code",
   "execution_count": 12,
   "id": "df5a72e3",
   "metadata": {},
   "outputs": [
    {
     "data": {
      "text/latex": [
       "$\\displaystyle 3 x + 2$"
      ],
      "text/plain": [
       "3*x + 2"
      ]
     },
     "execution_count": 12,
     "metadata": {},
     "output_type": "execute_result"
    }
   ],
   "source": [
    "x = 1\n",
    "x + x + x + 2\n",
    "from sympy import Symbol\n",
    "x = Symbol('x')\n",
    "f = x + x + x + 2 \n",
    "f \n"
   ]
  },
  {
   "cell_type": "code",
   "execution_count": 13,
   "id": "1bdfb0a7",
   "metadata": {},
   "outputs": [
    {
     "data": {
      "text/latex": [
       "$\\displaystyle 3 Chim + 7 Noi$"
      ],
      "text/plain": [
       "3*Chim + 7*Noi"
      ]
     },
     "execution_count": 13,
     "metadata": {},
     "output_type": "execute_result"
    }
   ],
   "source": [
    "a = Symbol('Noi') \n",
    "b = Symbol('Chim') \n",
    "3*b + 7*a "
   ]
  },
  {
   "cell_type": "code",
   "execution_count": 14,
   "id": "230922aa",
   "metadata": {},
   "outputs": [
    {
     "data": {
      "text/plain": [
       "'Noi'"
      ]
     },
     "execution_count": 14,
     "metadata": {},
     "output_type": "execute_result"
    }
   ],
   "source": [
    "a = Symbol('Noi') \n",
    "b = Symbol('Chim') \n",
    "a.name "
   ]
  },
  {
   "cell_type": "code",
   "execution_count": 16,
   "id": "5d3eb284",
   "metadata": {},
   "outputs": [
    {
     "data": {
      "text/plain": [
       "'Chim'"
      ]
     },
     "execution_count": 16,
     "metadata": {},
     "output_type": "execute_result"
    }
   ],
   "source": [
    "b.name "
   ]
  },
  {
   "cell_type": "code",
   "execution_count": 15,
   "id": "aba973cf",
   "metadata": {},
   "outputs": [
    {
     "data": {
      "text/latex": [
       "$\\displaystyle 2 x y$"
      ],
      "text/plain": [
       "2*x*y"
      ]
     },
     "execution_count": 15,
     "metadata": {},
     "output_type": "execute_result"
    }
   ],
   "source": [
    "from sympy import Symbol \n",
    "x = Symbol('x') \n",
    "y = Symbol('y') \n",
    "s = x*y + y*x \n",
    "s "
   ]
  },
  {
   "cell_type": "code",
   "execution_count": 17,
   "id": "ebc8fd43",
   "metadata": {},
   "outputs": [
    {
     "data": {
      "text/latex": [
       "$\\displaystyle \\left(x - 3\\right) \\left(x + 2\\right) + \\left(x + 2\\right) \\left(y + 3\\right)$"
      ],
      "text/plain": [
       "(x - 3)*(x + 2) + (x + 2)*(y + 3)"
      ]
     },
     "execution_count": 17,
     "metadata": {},
     "output_type": "execute_result"
    }
   ],
   "source": [
    "p = (x+2)*(y+3) + (x+2)*(x-3) \n",
    "p"
   ]
  },
  {
   "cell_type": "code",
   "execution_count": 18,
   "id": "80fcd72c",
   "metadata": {},
   "outputs": [
    {
     "data": {
      "text/latex": [
       "$\\displaystyle 3 x^{2}$"
      ],
      "text/plain": [
       "3*x**2"
      ]
     },
     "execution_count": 18,
     "metadata": {},
     "output_type": "execute_result"
    }
   ],
   "source": [
    "p = x*(x+2*x) \n",
    "p \n"
   ]
  },
  {
   "cell_type": "code",
   "execution_count": 19,
   "id": "af69979a",
   "metadata": {},
   "outputs": [
    {
     "data": {
      "text/latex": [
       "$\\displaystyle \\left(x - 3\\right) \\left(x + 2\\right) + \\left(x + 2\\right) \\left(y + 3\\right)$"
      ],
      "text/plain": [
       "(x - 3)*(x + 2) + (x + 2)*(y + 3)"
      ]
     },
     "execution_count": 19,
     "metadata": {},
     "output_type": "execute_result"
    }
   ],
   "source": [
    "p = (x+2)*(y+3) + (x+2)*(x-3) \n",
    "p "
   ]
  },
  {
   "cell_type": "code",
   "execution_count": 20,
   "id": "9dc4ed0e",
   "metadata": {},
   "outputs": [
    {
     "data": {
      "text/latex": [
       "$\\displaystyle 0$"
      ],
      "text/plain": [
       "0"
      ]
     },
     "execution_count": 20,
     "metadata": {},
     "output_type": "execute_result"
    }
   ],
   "source": [
    "p = x*(-x+2*x-x) \n",
    "p "
   ]
  },
  {
   "cell_type": "code",
   "execution_count": 21,
   "id": "0451fde0",
   "metadata": {},
   "outputs": [
    {
     "data": {
      "text/latex": [
       "$\\displaystyle x y + 3 x + 2 y + 6$"
      ],
      "text/plain": [
       "x*y + 3*x + 2*y + 6"
      ]
     },
     "execution_count": 21,
     "metadata": {},
     "output_type": "execute_result"
    }
   ],
   "source": [
    "p = (x+2)*(y+3) \n",
    "p.expand() \n"
   ]
  },
  {
   "cell_type": "code",
   "execution_count": 22,
   "id": "87edab39",
   "metadata": {},
   "outputs": [
    {
     "data": {
      "text/latex": [
       "$\\displaystyle \\left(x - y\\right) \\left(x^{2} + x y + y^{2}\\right)$"
      ],
      "text/plain": [
       "(x - y)*(x**2 + x*y + y**2)"
      ]
     },
     "execution_count": 22,
     "metadata": {},
     "output_type": "execute_result"
    }
   ],
   "source": [
    "from sympy import factor \n",
    "bieuthuc = x**3 - y**3 \n",
    "factor(bieuthuc)"
   ]
  },
  {
   "cell_type": "code",
   "execution_count": 23,
   "id": "82605322",
   "metadata": {},
   "outputs": [
    {
     "data": {
      "text/latex": [
       "$\\displaystyle x^{3} - y^{3}$"
      ],
      "text/plain": [
       "x**3 - y**3"
      ]
     },
     "execution_count": 23,
     "metadata": {},
     "output_type": "execute_result"
    }
   ],
   "source": [
    "from sympy import expand \n",
    "bieuthuc = (x - y)*(x**2 + x*y + y**2) \n",
    "expand(bieuthuc)"
   ]
  },
  {
   "cell_type": "code",
   "execution_count": 24,
   "id": "fbf1fc97",
   "metadata": {},
   "outputs": [
    {
     "data": {
      "text/latex": [
       "$\\displaystyle x^{2} - x y + y^{2}$"
      ],
      "text/plain": [
       "x**2 - x*y + y**2"
      ]
     },
     "execution_count": 24,
     "metadata": {},
     "output_type": "execute_result"
    }
   ],
   "source": [
    "from sympy import Symbol \n",
    "x = Symbol('x') \n",
    "y = Symbol('y') \n",
    "bieuthuc = x*x - x*y + y*y \n",
    "bieuthuc "
   ]
  },
  {
   "cell_type": "code",
   "execution_count": 25,
   "id": "c50144ea",
   "metadata": {},
   "outputs": [
    {
     "data": {
      "text/latex": [
       "$\\displaystyle 7$"
      ],
      "text/plain": [
       "7"
      ]
     },
     "execution_count": 25,
     "metadata": {},
     "output_type": "execute_result"
    }
   ],
   "source": [
    "giatri = bieuthuc.subs({x:3, y:2}) \n",
    "giatri "
   ]
  },
  {
   "cell_type": "code",
   "execution_count": 26,
   "id": "3fd77b05",
   "metadata": {},
   "outputs": [
    {
     "data": {
      "text/latex": [
       "$\\displaystyle x^{2} - 3 x + 9$"
      ],
      "text/plain": [
       "x**2 - 3*x + 9"
      ]
     },
     "execution_count": 26,
     "metadata": {},
     "output_type": "execute_result"
    }
   ],
   "source": [
    "giatri = bieuthuc.subs({x:3, y:x}) \n",
    "giatri "
   ]
  },
  {
   "cell_type": "code",
   "execution_count": 27,
   "id": "1a5d57a7",
   "metadata": {},
   "outputs": [
    {
     "data": {
      "text/latex": [
       "$\\displaystyle 9$"
      ],
      "text/plain": [
       "9"
      ]
     },
     "execution_count": 27,
     "metadata": {},
     "output_type": "execute_result"
    }
   ],
   "source": [
    "giatri = bieuthuc.subs({x:y, y:3}) \n",
    "giatri "
   ]
  },
  {
   "cell_type": "code",
   "execution_count": 28,
   "id": "1a1cd9d0",
   "metadata": {},
   "outputs": [
    {
     "data": {
      "text/latex": [
       "$\\displaystyle 9$"
      ],
      "text/plain": [
       "9"
      ]
     },
     "execution_count": 28,
     "metadata": {},
     "output_type": "execute_result"
    }
   ],
   "source": [
    "giatri = bieuthuc.subs({y:x}).subs({x:3}) \n",
    "giatri "
   ]
  },
  {
   "cell_type": "code",
   "execution_count": 29,
   "id": "0b6d1225",
   "metadata": {},
   "outputs": [
    {
     "data": {
      "text/latex": [
       "$\\displaystyle y^{2} - y \\left(1 - y\\right) + \\left(1 - y\\right)^{2}$"
      ],
      "text/plain": [
       "y**2 - y*(1 - y) + (1 - y)**2"
      ]
     },
     "execution_count": 29,
     "metadata": {},
     "output_type": "execute_result"
    }
   ],
   "source": [
    "from sympy import Symbol \n",
    "x = Symbol('x') \n",
    "y = Symbol('y') \n",
    "bieuthuc = x*x - x*y + y*y \n",
    "bieuthuc = x**2 - x*y + y**2 \n",
    "bieuthuc_moi = bieuthuc.subs({x:1-y})  #  x được thay thế bằng (1-y) \n",
    "bieuthuc_moi "
   ]
  },
  {
   "cell_type": "code",
   "execution_count": 30,
   "id": "b2d6bb49",
   "metadata": {},
   "outputs": [
    {
     "data": {
      "text/latex": [
       "$\\displaystyle 3 y^{2} - 3 y + 1$"
      ],
      "text/plain": [
       "3*y**2 - 3*y + 1"
      ]
     },
     "execution_count": 30,
     "metadata": {},
     "output_type": "execute_result"
    }
   ],
   "source": [
    "from sympy import simplify \n",
    "dongian = simplify(bieuthuc_moi) \n",
    "dongian \n"
   ]
  },
  {
   "cell_type": "code",
   "execution_count": 31,
   "id": "ab2806af",
   "metadata": {},
   "outputs": [
    {
     "data": {
      "text/latex": [
       "$\\displaystyle \\sin{\\left(x + y \\right)}$"
      ],
      "text/plain": [
       "sin(x + y)"
      ]
     },
     "execution_count": 31,
     "metadata": {},
     "output_type": "execute_result"
    }
   ],
   "source": [
    "from sympy import Symbol \n",
    "from sympy import sin, cos \n",
    "x = Symbol('x') \n",
    "y = Symbol('y') \n",
    "bt = sin(x)*cos(y) + cos(x)*sin(y) \n",
    "bt_moi = simplify(bt) \n",
    "bt_moi "
   ]
  },
  {
   "cell_type": "code",
   "execution_count": 1,
   "id": "ca281b5e",
   "metadata": {},
   "outputs": [
    {
     "data": {
      "text/plain": [
       "array([ 2.,  6., 10.])"
      ]
     },
     "execution_count": 1,
     "metadata": {},
     "output_type": "execute_result"
    }
   ],
   "source": [
    "import numpy as np\n",
    "vec1 = np.array([1., 3., 5.])\n",
    "vec1 * 2 "
   ]
  },
  {
   "cell_type": "code",
   "execution_count": 2,
   "id": "64535eec",
   "metadata": {},
   "outputs": [
    {
     "data": {
      "text/plain": [
       "array([ 1.,  9., 25.])"
      ]
     },
     "execution_count": 2,
     "metadata": {},
     "output_type": "execute_result"
    }
   ],
   "source": [
    "vec1 * vec1"
   ]
  },
  {
   "cell_type": "code",
   "execution_count": 3,
   "id": "af25a71e",
   "metadata": {},
   "outputs": [
    {
     "data": {
      "text/plain": [
       "array([0.5, 1.5, 2.5])"
      ]
     },
     "execution_count": 3,
     "metadata": {},
     "output_type": "execute_result"
    }
   ],
   "source": [
    "vec1 /2"
   ]
  },
  {
   "cell_type": "code",
   "execution_count": 4,
   "id": "d400a3dc",
   "metadata": {},
   "outputs": [
    {
     "data": {
      "text/plain": [
       "array([ 2.,  6., 10.])"
      ]
     },
     "execution_count": 4,
     "metadata": {},
     "output_type": "execute_result"
    }
   ],
   "source": [
    "vec1 + vec1"
   ]
  },
  {
   "cell_type": "code",
   "execution_count": 5,
   "id": "18063639",
   "metadata": {},
   "outputs": [
    {
     "ename": "NameError",
     "evalue": "name 'array' is not defined",
     "output_type": "error",
     "traceback": [
      "\u001b[1;31m---------------------------------------------------------------------------\u001b[0m",
      "\u001b[1;31mNameError\u001b[0m                                 Traceback (most recent call last)",
      "Cell \u001b[1;32mIn[5], line 1\u001b[0m\n\u001b[1;32m----> 1\u001b[0m vec2 \u001b[38;5;241m=\u001b[39m \u001b[43marray\u001b[49m([\u001b[38;5;241m2.\u001b[39m, \u001b[38;5;241m4.\u001b[39m])\n\u001b[0;32m      2\u001b[0m vec1 \u001b[38;5;241m+\u001b[39m vec2 \n",
      "\u001b[1;31mNameError\u001b[0m: name 'array' is not defined"
     ]
    }
   ],
   "source": [
    "vec2 = array([2., 4.])\n",
    "vec1 + vec2 "
   ]
  },
  {
   "cell_type": "code",
   "execution_count": 6,
   "id": "22d1b4ac",
   "metadata": {},
   "outputs": [
    {
     "data": {
      "text/plain": [
       "array([ 3.,  7., 11.])"
      ]
     },
     "execution_count": 6,
     "metadata": {},
     "output_type": "execute_result"
    }
   ],
   "source": [
    "vec3 = np.array([2., 4., 6.])\n",
    "vec1 + vec3"
   ]
  },
  {
   "cell_type": "code",
   "execution_count": 7,
   "id": "2dc04e1b",
   "metadata": {},
   "outputs": [
    {
     "data": {
      "text/plain": [
       "array([0.5       , 0.75      , 0.83333333])"
      ]
     },
     "execution_count": 7,
     "metadata": {},
     "output_type": "execute_result"
    }
   ],
   "source": [
    "vec1 / vec3 "
   ]
  },
  {
   "cell_type": "code",
   "execution_count": 8,
   "id": "7d10c41b",
   "metadata": {},
   "outputs": [
    {
     "data": {
      "text/plain": [
       "array([ 2., 12., 30.])"
      ]
     },
     "execution_count": 8,
     "metadata": {},
     "output_type": "execute_result"
    }
   ],
   "source": [
    "vec1 * vec3"
   ]
  },
  {
   "cell_type": "code",
   "execution_count": 9,
   "id": "219d5dc4",
   "metadata": {},
   "outputs": [
    {
     "data": {
      "text/plain": [
       "array([12., 26., 40.])"
      ]
     },
     "execution_count": 9,
     "metadata": {},
     "output_type": "execute_result"
    }
   ],
   "source": [
    "2* vec1 + 5* vec3"
   ]
  },
  {
   "cell_type": "code",
   "execution_count": 10,
   "id": "584864c9",
   "metadata": {},
   "outputs": [
    {
     "data": {
      "text/plain": [
       "9.0"
      ]
     },
     "execution_count": 10,
     "metadata": {},
     "output_type": "execute_result"
    }
   ],
   "source": [
    "v = np.array([1., 3., 5.]) \n",
    "np.sum(v) "
   ]
  },
  {
   "cell_type": "code",
   "execution_count": 11,
   "id": "598a9c1a",
   "metadata": {},
   "outputs": [
    {
     "data": {
      "text/plain": [
       "(3,)"
      ]
     },
     "execution_count": 11,
     "metadata": {},
     "output_type": "execute_result"
    }
   ],
   "source": [
    "v.shape"
   ]
  },
  {
   "cell_type": "code",
   "execution_count": 12,
   "id": "bedc5baa",
   "metadata": {},
   "outputs": [
    {
     "data": {
      "text/plain": [
       "array([1., 3., 5.])"
      ]
     },
     "execution_count": 12,
     "metadata": {},
     "output_type": "execute_result"
    }
   ],
   "source": [
    "v.transpose()"
   ]
  },
  {
   "cell_type": "code",
   "execution_count": 13,
   "id": "aaed1e15",
   "metadata": {},
   "outputs": [
    {
     "data": {
      "text/plain": [
       "array([1., 3.])"
      ]
     },
     "execution_count": 13,
     "metadata": {},
     "output_type": "execute_result"
    }
   ],
   "source": [
    "v1 = v[:2]\n",
    "v1"
   ]
  },
  {
   "cell_type": "code",
   "execution_count": 14,
   "id": "e87658c4",
   "metadata": {},
   "outputs": [
    {
     "data": {
      "text/plain": [
       "array([5., 3., 5.])"
      ]
     },
     "execution_count": 14,
     "metadata": {},
     "output_type": "execute_result"
    }
   ],
   "source": [
    "v[0] = 5\n",
    "v "
   ]
  },
  {
   "cell_type": "code",
   "execution_count": 15,
   "id": "db182484",
   "metadata": {},
   "outputs": [
    {
     "data": {
      "text/plain": [
       "array([5., 3.])"
      ]
     },
     "execution_count": 15,
     "metadata": {},
     "output_type": "execute_result"
    }
   ],
   "source": [
    "v1 "
   ]
  },
  {
   "cell_type": "code",
   "execution_count": 16,
   "id": "1ccedde6",
   "metadata": {},
   "outputs": [
    {
     "ename": "ValueError",
     "evalue": "could not broadcast input array from shape (3,) into shape (2,)",
     "output_type": "error",
     "traceback": [
      "\u001b[1;31m---------------------------------------------------------------------------\u001b[0m",
      "\u001b[1;31mValueError\u001b[0m                                Traceback (most recent call last)",
      "Cell \u001b[1;32mIn[16], line 1\u001b[0m\n\u001b[1;32m----> 1\u001b[0m \u001b[43mv1\u001b[49m\u001b[43m[\u001b[49m\u001b[43m:\u001b[49m\u001b[38;5;241;43m2\u001b[39;49m\u001b[43m]\u001b[49m \u001b[38;5;241m=\u001b[39m [\u001b[38;5;241m1.\u001b[39m, \u001b[38;5;241m2.\u001b[39m, \u001b[38;5;241m3.\u001b[39m] \n",
      "\u001b[1;31mValueError\u001b[0m: could not broadcast input array from shape (3,) into shape (2,)"
     ]
    }
   ],
   "source": [
    "v1[:2] = [1., 2., 3.] "
   ]
  },
  {
   "cell_type": "code",
   "execution_count": 17,
   "id": "104a7700",
   "metadata": {},
   "outputs": [
    {
     "data": {
      "text/plain": [
       "array([1., 2., 5.])"
      ]
     },
     "execution_count": 17,
     "metadata": {},
     "output_type": "execute_result"
    }
   ],
   "source": [
    "v1[:2] = [1., 2]\n",
    "v"
   ]
  },
  {
   "cell_type": "code",
   "execution_count": 18,
   "id": "e67c5c2b",
   "metadata": {},
   "outputs": [
    {
     "data": {
      "text/plain": [
       "array([ 5., 10.])"
      ]
     },
     "execution_count": 18,
     "metadata": {},
     "output_type": "execute_result"
    }
   ],
   "source": [
    "v3 = 2 * v[:2] + v1 * 3 \n",
    "v3"
   ]
  },
  {
   "cell_type": "code",
   "execution_count": 19,
   "id": "73698c9c",
   "metadata": {},
   "outputs": [
    {
     "data": {
      "text/plain": [
       "array([ 5., 10.])"
      ]
     },
     "execution_count": 19,
     "metadata": {},
     "output_type": "execute_result"
    }
   ],
   "source": [
    "v1 = [4, 6]\n",
    "v3 "
   ]
  },
  {
   "cell_type": "code",
   "execution_count": 29,
   "id": "2dfa40bc",
   "metadata": {},
   "outputs": [
    {
     "data": {
      "text/plain": [
       "array([1., 2., 5.])"
      ]
     },
     "execution_count": 29,
     "metadata": {},
     "output_type": "execute_result"
    }
   ],
   "source": [
    "v"
   ]
  },
  {
   "cell_type": "code",
   "execution_count": 28,
   "id": "da716464",
   "metadata": {},
   "outputs": [
    {
     "data": {
      "text/plain": [
       "array([11., 12., 15.])"
      ]
     },
     "execution_count": 28,
     "metadata": {},
     "output_type": "execute_result"
    }
   ],
   "source": [
    "v + 10.0 "
   ]
  },
  {
   "cell_type": "code",
   "execution_count": 27,
   "id": "01995e1a",
   "metadata": {},
   "outputs": [
    {
     "data": {
      "text/plain": [
       "array([1.        , 1.41421356, 2.23606798])"
      ]
     },
     "execution_count": 27,
     "metadata": {},
     "output_type": "execute_result"
    }
   ],
   "source": [
    "np.sqrt(v) "
   ]
  },
  {
   "cell_type": "code",
   "execution_count": 26,
   "id": "2b65eab4",
   "metadata": {},
   "outputs": [
    {
     "data": {
      "text/plain": [
       "array([ 0.54030231, -0.41614684,  0.28366219])"
      ]
     },
     "execution_count": 26,
     "metadata": {},
     "output_type": "execute_result"
    }
   ],
   "source": [
    "np.cos(v) "
   ]
  },
  {
   "cell_type": "code",
   "execution_count": 23,
   "id": "b83c8826",
   "metadata": {},
   "outputs": [
    {
     "data": {
      "text/plain": [
       "array([ 0.84147098,  0.90929743, -0.95892427])"
      ]
     },
     "execution_count": 23,
     "metadata": {},
     "output_type": "execute_result"
    }
   ],
   "source": [
    "np.sin(v)"
   ]
  },
  {
   "cell_type": "code",
   "execution_count": 22,
   "id": "dc169399",
   "metadata": {},
   "outputs": [
    {
     "data": {
      "text/plain": [
       "80.0"
      ]
     },
     "execution_count": 22,
     "metadata": {},
     "output_type": "execute_result"
    }
   ],
   "source": [
    "np.dot(v1, v3) "
   ]
  },
  {
   "cell_type": "code",
   "execution_count": 21,
   "id": "664b8cee",
   "metadata": {},
   "outputs": [
    {
     "ename": "AttributeError",
     "evalue": "'list' object has no attribute 'dot'",
     "output_type": "error",
     "traceback": [
      "\u001b[1;31m---------------------------------------------------------------------------\u001b[0m",
      "\u001b[1;31mAttributeError\u001b[0m                            Traceback (most recent call last)",
      "Cell \u001b[1;32mIn[21], line 1\u001b[0m\n\u001b[1;32m----> 1\u001b[0m \u001b[43mv1\u001b[49m\u001b[38;5;241;43m.\u001b[39;49m\u001b[43mdot\u001b[49m(v3)\n",
      "\u001b[1;31mAttributeError\u001b[0m: 'list' object has no attribute 'dot'"
     ]
    }
   ],
   "source": [
    "v1.dot(v3)"
   ]
  },
  {
   "cell_type": "code",
   "execution_count": 20,
   "id": "ecc63de6",
   "metadata": {},
   "outputs": [
    {
     "data": {
      "text/plain": [
       "80.0"
      ]
     },
     "execution_count": 20,
     "metadata": {},
     "output_type": "execute_result"
    }
   ],
   "source": [
    "v3.dot(v1)"
   ]
  }
 ],
 "metadata": {
  "kernelspec": {
   "display_name": "Python 3",
   "language": "python",
   "name": "python3"
  },
  "language_info": {
   "codemirror_mode": {
    "name": "ipython",
    "version": 3
   },
   "file_extension": ".py",
   "mimetype": "text/x-python",
   "name": "python",
   "nbconvert_exporter": "python",
   "pygments_lexer": "ipython3",
   "version": "3.11.0"
  }
 },
 "nbformat": 4,
 "nbformat_minor": 5
}
