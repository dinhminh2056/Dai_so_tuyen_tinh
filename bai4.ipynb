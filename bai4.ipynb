{
 "cells": [
  {
   "cell_type": "code",
   "execution_count": 3,
   "id": "4bb5133f",
   "metadata": {},
   "outputs": [
    {
     "data": {
      "text/plain": [
       "[{x: 3, y: 2}]"
      ]
     },
     "execution_count": 3,
     "metadata": {},
     "output_type": "execute_result"
    }
   ],
   "source": [
    "from sympy import Symbol, solve\n",
    "x = Symbol('x')\n",
    "y = Symbol('y')\n",
    "pt1 = 2*x+3*y-12\n",
    "pt2 = 3*x-2*y-5 \n",
    "solve((pt1, pt2), dict=True) "
   ]
  },
  {
   "cell_type": "code",
   "execution_count": 4,
   "id": "3ce9e393",
   "metadata": {},
   "outputs": [
    {
     "data": {
      "text/latex": [
       "$\\displaystyle 0$"
      ],
      "text/plain": [
       "0"
      ]
     },
     "execution_count": 4,
     "metadata": {},
     "output_type": "execute_result"
    }
   ],
   "source": [
    "nghiem = solve((pt1, pt2), dict=True)\n",
    "nghiem = nghiem[0]\n",
    "pt1.subs({x:nghiem[x], y:nghiem[y]}) "
   ]
  },
  {
   "cell_type": "code",
   "execution_count": 5,
   "id": "74db5bbb",
   "metadata": {},
   "outputs": [
    {
     "data": {
      "text/latex": [
       "$\\displaystyle 0$"
      ],
      "text/plain": [
       "0"
      ]
     },
     "execution_count": 5,
     "metadata": {},
     "output_type": "execute_result"
    }
   ],
   "source": [
    "pt2.subs({x:nghiem[x], y:nghiem[y]}) "
   ]
  },
  {
   "cell_type": "code",
   "execution_count": null,
   "id": "93882d29",
   "metadata": {},
   "outputs": [],
   "source": []
  }
 ],
 "metadata": {
  "kernelspec": {
   "display_name": "Python 3",
   "language": "python",
   "name": "python3"
  },
  "language_info": {
   "codemirror_mode": {
    "name": "ipython",
    "version": 3
   },
   "file_extension": ".py",
   "mimetype": "text/x-python",
   "name": "python",
   "nbconvert_exporter": "python",
   "pygments_lexer": "ipython3",
   "version": "3.11.0"
  }
 },
 "nbformat": 4,
 "nbformat_minor": 5
}
