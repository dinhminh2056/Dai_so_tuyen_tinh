{
 "cells": [
  {
   "cell_type": "code",
   "execution_count": 17,
   "id": "cc23394d",
   "metadata": {},
   "outputs": [
    {
     "name": "stdout",
     "output_type": "stream",
     "text": [
      "A + B = [3 3 1 5]\n",
      "3A - 2B = [  4 -11  13 -10]\n",
      "A · B = -8\n",
      "3.7416573867739413\n",
      "6.782329983125268\n",
      "cos(θ) = -0.31524416249564025\n",
      "Góc giữa A và B (độ) = 108.3755542856849\n"
     ]
    }
   ],
   "source": [
    "# Câu 1: Phép toán cơ bản trên vector và ma trận (15 điểm)\n",
    "# a) Tính tổng A+B và tích số 3A-2B. (5 điểm)\n",
    "\n",
    "import numpy as np\n",
    "from math import acos, degrees\n",
    "\n",
    "# Định nghĩa các vector và ma trận\n",
    "A = np.array([2, -1, 3, 0])\n",
    "B = np.array([1, 4, -2, 5])\n",
    "C = np.array([[1, 2, -1],\n",
    "              [0, 3, 4],\n",
    "              [2, -1, 0]])\n",
    "\n",
    "sum_AB = A + B\n",
    "print(\"A + B =\", sum_AB)\n",
    "\n",
    "result_3A_2B = 3 * A - 2 * B\n",
    "print(\"3A - 2B =\", result_3A_2B)\n",
    "\n",
    "# Câu b: Tính tích vô hướng A · B và góc giữa hai vector\n",
    "dot_product = np.dot(A, B)\n",
    "print(\"A · B =\", dot_product)\n",
    "\n",
    "do_daiA = np.linalg.norm(A)\n",
    "do_daiB = np.linalg.norm(B)\n",
    "print(do_daiA)\n",
    "print(do_daiB)\n",
    "\n",
    "cos_angle = dot_product / (do_daiA * do_daiB)\n",
    "print(\"cos(θ) =\", cos_angle)\n",
    "\n",
    "angle_deg = degrees(acos(cos_angle))\n",
    "print(\"Góc giữa A và B (độ) =\", angle_deg)"
   ]
  },
  {
   "cell_type": "code",
   "execution_count": 22,
   "id": "39ebb064",
   "metadata": {},
   "outputs": [
    {
     "name": "stdout",
     "output_type": "stream",
     "text": [
      "C^T =\n",
      "[[ 1  0  2]\n",
      " [ 2  3 -1]\n",
      " [-1  4  0]]\n",
      "C^T * C =\n",
      "[[ 5  0 -1]\n",
      " [ 0 14 10]\n",
      " [-1 10 17]]\n"
     ]
    }
   ],
   "source": [
    "# Câu c: Tính tích ma trận C^T * C (chuyển vị của C nhân với C)\n",
    "C_transpose = C.T\n",
    "print(\"C^T =\")\n",
    "print(C_transpose)\n",
    "\n",
    "result_CTC = np.dot(C_transpose, C)\n",
    "print(\"C^T * C =\")\n",
    "print(result_CTC)\n"
   ]
  },
  {
   "cell_type": "code",
   "execution_count": 28,
   "id": "e17c9509",
   "metadata": {},
   "outputs": [
    {
     "name": "stdout",
     "output_type": "stream",
     "text": [
      "M × N =\n",
      "[[ 32  38  44  50]\n",
      " [ 80  96 112 128]\n",
      " [128 154 180 206]\n",
      " [ 12  14  16  18]]\n"
     ]
    }
   ],
   "source": [
    "# Câu2:Nhânmatrận,địnhthứcvàhạngmatrận(20điểm)\n",
    "import numpy as np\n",
    "# Định nghĩa các ma trận M và N\n",
    "M = np.array([[1, 2, 3, 0],\n",
    "              [4, 5, 6, 1],\n",
    "              [7, 8, 9, 2],\n",
    "              [0, 1, 1, 0]])\n",
    "\n",
    "N = np.array([[0, 1, 2, 3],\n",
    "              [4, 5, 6, 7],\n",
    "              [8, 9, 10, 11],\n",
    "              [12, 13, 14, 15]])\n",
    "\n",
    "# Câu a: Tính tích ma trận M × N (8 điểm)\n",
    "# Tính tích ma trận M × N\n",
    "MN = np.dot(M, N)\n",
    "print(\"M × N =\")\n",
    "print(MN)"
   ]
  },
  {
   "cell_type": "code",
   "execution_count": 31,
   "id": "a28e685d",
   "metadata": {},
   "outputs": [
    {
     "name": "stdout",
     "output_type": "stream",
     "text": [
      "Ma trận M là ma trận vuông\n",
      "Định thức của M = 6.66133814775094e-16\n"
     ]
    }
   ],
   "source": [
    "# Câu b: Tính định thức của ma trận M. Nếu khả thi, giải thích lý do (6 điểm)\n",
    "# Kiểm tra xem ma trận M có phải là ma trận vuông không\n",
    "if M.shape[0] == M.shape[1]:\n",
    "    det_M = np.linalg.det(M)\n",
    "    print(f\"Ma trận M là ma trận vuông\")\n",
    "    print(f\"Định thức của M = {det_M}\")\n",
    "    "
   ]
  },
  {
   "cell_type": "code",
   "execution_count": 37,
   "id": "a319c7bf",
   "metadata": {},
   "outputs": [
    {
     "name": "stdout",
     "output_type": "stream",
     "text": [
      "Hạng của ma trận N = 2\n"
     ]
    }
   ],
   "source": [
    "# Câu c: Tính hạng của ma trận N (6 điểm)\n",
    "# Tính hạng của ma trận N\n",
    "rank_N = np.linalg.matrix_rank(N)\n",
    "print(f\"Hạng của ma trận N = {rank_N}\")\n"
   ]
  },
  {
   "cell_type": "code",
   "execution_count": 46,
   "id": "89ffad91",
   "metadata": {},
   "outputs": [
    {
     "name": "stdout",
     "output_type": "stream",
     "text": [
      "det(P) = 86.00000000000004\n",
      "P^(-1) =\n",
      "[[ 0.48837209 -0.09302326  0.02325581 -0.20930233]\n",
      " [ 0.03488372  0.27906977 -0.06976744  0.12790698]\n",
      " [-0.11627907  0.06976744  0.23255814 -0.09302326]\n",
      " [-0.01162791 -0.09302326  0.02325581  0.29069767]]\n"
     ]
    }
   ],
   "source": [
    "#Câu3:Nghịchđảomatrậnvàgiảihệphươngtrình(25điểm)\n",
    "# Câu 3: Nghịch đảo ma trận và giải hệ phương trình (25 điểm)\n",
    "import numpy as np\n",
    "# Ma trận P\n",
    "P = np.array([[2, 1, 0, 1],\n",
    "              [0, 3, 1, -1],\n",
    "              [1, 0, 4, 2],\n",
    "              [0, 1, 0, 3]])\n",
    "\n",
    "# Hệ phương trình: Ax = b\n",
    "A = np.array([[2, 1, 0, 1],\n",
    "              [0, 3, 1, -1],\n",
    "              [1, 0, 4, 2],\n",
    "              [0, 1, 0, 3]])\n",
    "b = np.array([4, 7, 9, 5])\n",
    "# Câu a: Tìm ma trận nghịch đảo của P\n",
    "det_P = np.linalg.det(P)\n",
    "print(f\"det(P) = {det_P}\")\n",
    "\n",
    "if abs(det_P) > 1e-10:\n",
    "    P_inv = np.linalg.inv(P)\n",
    "    print(\"P^(-1) =\")\n",
    "    print(P_inv)\n",
    "else:\n",
    "    print(\"P không khả nghịch\")"
   ]
  },
  {
   "cell_type": "code",
   "execution_count": 43,
   "id": "8f7a51f4",
   "metadata": {},
   "outputs": [
    {
     "name": "stdout",
     "output_type": "stream",
     "text": [
      "Nghiệm:\n",
      "x = 0.4651162790697678\n",
      "y = 2.104651162790697\n",
      "z = 1.6511627906976747\n",
      "w = 0.9651162790697675\n"
     ]
    }
   ],
   "source": [
    "# Câu b: Giải hệ phương trình bằng nghịch đảo\n",
    "x = np.dot(P_inv, b)\n",
    "print(\"Nghiệm:\")\n",
    "print(f\"x = {x[0]}\")\n",
    "print(f\"y = {x[1]}\")\n",
    "print(f\"z = {x[2]}\")\n",
    "print(f\"w = {x[3]}\")"
   ]
  },
  {
   "cell_type": "code",
   "execution_count": 44,
   "id": "6f91bd53",
   "metadata": {},
   "outputs": [
    {
     "name": "stdout",
     "output_type": "stream",
     "text": [
      "P × x = [4. 7. 9. 5.]\n",
      "b = [4 7 9 5]\n",
      "Đúng: True\n"
     ]
    }
   ],
   "source": [
    "# Câu c: Kiểm tra nghiệm\n",
    "check = np.dot(P, x)\n",
    "print(f\"P × x = {check}\")\n",
    "print(f\"b = {b}\")\n",
    "print(f\"Đúng: {np.allclose(check, b)}\")"
   ]
  },
  {
   "cell_type": "code",
   "execution_count": 49,
   "id": "24f55e22",
   "metadata": {},
   "outputs": [
    {
     "name": "stdout",
     "output_type": "stream",
     "text": [
      "\n",
      "Câu a: Giá trị riêng của Q\n",
      "Giá trị riêng:\n",
      "λ1 = (3.4533976515164015+0j)\n",
      "λ2 = (2.773301174241798+1.4677115087102246j)\n",
      "λ3 = (2.773301174241798-1.4677115087102246j)\n"
     ]
    }
   ],
   "source": [
    "#Câu4:Giátrịriêng,vectorriêngvàchuẩnhóa(20điểm)\n",
    "import numpy as np\n",
    "Q = np.array([[4, -1, 0],\n",
    "              [1, 3, -2],\n",
    "              [0, 1, 2]])\n",
    "\n",
    "# Câu a: Tìm các giá trị riêng của Q\n",
    "print(\"\\nCâu a: Giá trị riêng của Q\")\n",
    "eigenvalues, eigenvectors = np.linalg.eig(Q)\n",
    "print(\"Giá trị riêng:\")\n",
    "for i, val in enumerate(eigenvalues):\n",
    "    print(f\"λ{i+1} = {val}\")"
   ]
  },
  {
   "cell_type": "code",
   "execution_count": 48,
   "id": "3e5970ad",
   "metadata": {},
   "outputs": [
    {
     "name": "stdout",
     "output_type": "stream",
     "text": [
      "\n",
      "Câu b: Vector riêng tương ứng\n",
      "Vector riêng ứng với λ1 = (3.4533976515164015+0j):\n",
      "[0.83327121+0.j 0.455468  +0.j 0.31338154+0.j]\n",
      "Vector riêng ứng với λ2 = (2.773301174241798+1.4677115087102246j):\n",
      "[-0.26206044-0.31354813j -0.78166743+0.j         -0.21963176+0.41685708j]\n",
      "Vector riêng ứng với λ3 = (2.773301174241798-1.4677115087102246j):\n",
      "[-0.26206044+0.31354813j -0.78166743-0.j         -0.21963176-0.41685708j]\n"
     ]
    }
   ],
   "source": [
    "# Câu b: Tìm các vector riêng tương ứng\n",
    "print(\"\\nCâu b: Vector riêng tương ứng\")\n",
    "for i in range(len(eigenvalues)):\n",
    "    print(f\"Vector riêng ứng với λ{i+1} = {eigenvalues[i]}:\")\n",
    "    print(eigenvectors[:, i])\n"
   ]
  },
  {
   "cell_type": "code",
   "execution_count": 52,
   "id": "5d6623bd",
   "metadata": {},
   "outputs": [
    {
     "name": "stdout",
     "output_type": "stream",
     "text": [
      "\n",
      "Câu c: Chuẩn hóa vector riêng\n",
      "Vector riêng chuẩn hóa ứng với λ1:\n",
      "[0.83327121+0.j 0.455468  +0.j 0.31338154+0.j]\n",
      "Độ dài: 1.0\n",
      "Vector riêng chuẩn hóa ứng với λ2:\n",
      "[-0.26206044-0.31354813j -0.78166743+0.j         -0.21963176+0.41685708j]\n",
      "Độ dài: 1.0\n",
      "Vector riêng chuẩn hóa ứng với λ3:\n",
      "[-0.26206044+0.31354813j -0.78166743+0.j         -0.21963176-0.41685708j]\n",
      "Độ dài: 1.0\n"
     ]
    }
   ],
   "source": [
    "# Câu c: Chuẩn hóa các vector riêng (độ dài bằng 1)\n",
    "print(\"\\nCâu c: Chuẩn hóa vector riêng\")\n",
    "for i in range(len(eigenvalues)):\n",
    "    length = np.linalg.norm(eigenvectors[:, i])\n",
    "    normalized = eigenvectors[:, i] / length\n",
    "    print(f\"Vector riêng chuẩn hóa ứng với λ{i+1}:\")\n",
    "    print(normalized)\n",
    "    print(f\"Độ dài: {np.linalg.norm(normalized)}\")"
   ]
  },
  {
   "cell_type": "code",
   "execution_count": 56,
   "id": "e86fd04f",
   "metadata": {},
   "outputs": [
    {
     "name": "stdout",
     "output_type": "stream",
     "text": [
      "Nghiệm:\n",
      "x1 = 2.782608695652174\n",
      "x2 = 0.04347826086956541\n",
      "x3 = 2.4347826086956523\n"
     ]
    }
   ],
   "source": [
    "#Câu5:Ứngdụngthựctế-Hệphươngtrìnhvàphântích(20 điểm)\n",
    "import numpy as np\n",
    "R = np.array([[1, -2, 3],\n",
    "              [2, 0, 1],\n",
    "              [-1, 1, 4]])\n",
    "\n",
    "b = np.array([10, 8, 7])\n",
    "x = np.linalg.solve(R, b)\n",
    "print(\"Nghiệm:\")\n",
    "print(f\"x1 = {x[0]}\")\n",
    "print(f\"x2 = {x[1]}\")  \n",
    "print(f\"x3 = {x[2]}\")"
   ]
  },
  {
   "cell_type": "code",
   "execution_count": 61,
   "id": "8694bfc8",
   "metadata": {},
   "outputs": [
    {
     "name": "stdout",
     "output_type": "stream",
     "text": [
      "Ma trận R khả nghịch\n",
      "R^(-1) =\n",
      "[[-0.04347826  0.47826087 -0.08695652]\n",
      " [-0.39130435  0.30434783  0.2173913 ]\n",
      " [ 0.08695652  0.04347826  0.17391304]]\n",
      "Nghiệm bằng nghịch đảo:\n",
      "x1 = 2.782608695652174\n",
      "x2 = 0.04347826086956527\n",
      "x3 = 2.4347826086956523\n"
     ]
    }
   ],
   "source": [
    "\n",
    "# Câu b: Xác định ma trận R có khả nghịch không và tính nghịch đảo\n",
    "det_R = np.linalg.det(R)\n",
    "if abs(det_R) > 1e-10:\n",
    "    print(\"Ma trận R khả nghịch\")\n",
    "    R_inv = np.linalg.inv(R)\n",
    "    print(\"R^(-1) =\")\n",
    "    print(R_inv)\n",
    "    \n",
    "    # So sánh hai nghiệm\n",
    "    x2 = np.dot(R_inv, b)\n",
    "    print(\"Nghiệm bằng nghịch đảo:\")\n",
    "    print(f\"x1 = {x2[0]}\")\n",
    "    print(f\"x2 = {x2[1]}\")\n",
    "    print(f\"x3 = {x2[2]}\")\n",
    "else:\n",
    "    print(\"Ma trận R không khả nghịch\")"
   ]
  },
  {
   "cell_type": "code",
   "execution_count": 63,
   "id": "365e1427",
   "metadata": {},
   "outputs": [
    {
     "name": "stdout",
     "output_type": "stream",
     "text": [
      "||R||_F = 6.082762530298219\n",
      "Tính thủ công: 6.082762530298219\n"
     ]
    }
   ],
   "source": [
    "# Câu c: Tính chuẩn Frobenius của ma trận R\n",
    "frobenius_norm = np.linalg.norm(R, 'fro')\n",
    "print(f\"||R||_F = {frobenius_norm}\")\n",
    "manual_calc = np.sqrt(np.sum(R**2))\n",
    "print(f\"Tính thủ công: {manual_calc}\")"
   ]
  }
 ],
 "metadata": {
  "kernelspec": {
   "display_name": "Python 3",
   "language": "python",
   "name": "python3"
  },
  "language_info": {
   "codemirror_mode": {
    "name": "ipython",
    "version": 3
   },
   "file_extension": ".py",
   "mimetype": "text/x-python",
   "name": "python",
   "nbconvert_exporter": "python",
   "pygments_lexer": "ipython3",
   "version": "3.11.0"
  }
 },
 "nbformat": 4,
 "nbformat_minor": 5
}
