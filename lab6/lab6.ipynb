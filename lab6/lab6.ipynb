{
 "cells": [
  {
   "cell_type": "code",
   "execution_count": 1,
   "id": "7d4bda3d",
   "metadata": {},
   "outputs": [
    {
     "name": "stdout",
     "output_type": "stream",
     "text": [
      "32\n"
     ]
    }
   ],
   "source": [
    "import numpy as np\n",
    "a = np.array([1,2,3])\n",
    "b = np.array([4,5,6])\n",
    "tich = np.inner(a,b) # tích vô hướng\n",
    "print (tich)"
   ]
  },
  {
   "cell_type": "code",
   "execution_count": 2,
   "id": "5c007e29",
   "metadata": {},
   "outputs": [
    {
     "data": {
      "text/plain": [
       "32"
      ]
     },
     "execution_count": 2,
     "metadata": {},
     "output_type": "execute_result"
    }
   ],
   "source": [
    "np.dot(a,b) "
   ]
  },
  {
   "cell_type": "code",
   "execution_count": 3,
   "id": "008a0a48",
   "metadata": {},
   "outputs": [
    {
     "data": {
      "text/plain": [
       "3.7416573867739413"
      ]
     },
     "execution_count": 3,
     "metadata": {},
     "output_type": "execute_result"
    }
   ],
   "source": [
    "import numpy as np\n",
    "a = np.array([1,2,-3])\n",
    "np.linalg.norm(a) "
   ]
  },
  {
   "cell_type": "code",
   "execution_count": 4,
   "id": "89737095",
   "metadata": {},
   "outputs": [
    {
     "data": {
      "text/plain": [
       "6.0"
      ]
     },
     "execution_count": 4,
     "metadata": {},
     "output_type": "execute_result"
    }
   ],
   "source": [
    "a = np.array([1,2,-3])\n",
    "np.linalg.norm(a,1) "
   ]
  },
  {
   "cell_type": "code",
   "execution_count": 8,
   "id": "cd1cbe85",
   "metadata": {},
   "outputs": [
    {
     "name": "stdout",
     "output_type": "stream",
     "text": [
      "6.0\n"
     ]
    }
   ],
   "source": [
    "import math\n",
    "import numpy as np \n",
    "a = np.array([1,2,-3])\n",
    "print(chuan(a, 1))"
   ]
  },
  {
   "cell_type": "code",
   "execution_count": 9,
   "id": "bcc14cae",
   "metadata": {},
   "outputs": [
    {
     "data": {
      "text/plain": [
       "6.0"
      ]
     },
     "execution_count": 9,
     "metadata": {},
     "output_type": "execute_result"
    }
   ],
   "source": [
    "np.linalg.norm(a,1)\n"
   ]
  },
  {
   "cell_type": "code",
   "execution_count": 10,
   "id": "ef042988",
   "metadata": {},
   "outputs": [
    {
     "data": {
      "text/plain": [
       "3.3019272488946263"
      ]
     },
     "execution_count": 10,
     "metadata": {},
     "output_type": "execute_result"
    }
   ],
   "source": [
    "chuan(a, 3)"
   ]
  },
  {
   "cell_type": "code",
   "execution_count": 11,
   "id": "62e72a03",
   "metadata": {},
   "outputs": [
    {
     "data": {
      "text/plain": [
       "3.3019272488946263"
      ]
     },
     "execution_count": 11,
     "metadata": {},
     "output_type": "execute_result"
    }
   ],
   "source": [
    "np.linalg.norm(a,3) "
   ]
  },
  {
   "cell_type": "code",
   "execution_count": 12,
   "id": "ceb1ba6e",
   "metadata": {},
   "outputs": [
    {
     "data": {
      "text/plain": [
       "1.0206361019360273"
      ]
     },
     "execution_count": 12,
     "metadata": {},
     "output_type": "execute_result"
    }
   ],
   "source": [
    "chuan(a, 1000) "
   ]
  },
  {
   "cell_type": "code",
   "execution_count": 13,
   "id": "abd49ba9",
   "metadata": {},
   "outputs": [
    {
     "name": "stderr",
     "output_type": "stream",
     "text": [
      "c:\\Users\\ACER\\AppData\\Local\\Programs\\Python\\Python311\\Lib\\site-packages\\numpy\\linalg\\linalg.py:2590: RuntimeWarning: overflow encountered in power\n",
      "  absx **= ord\n"
     ]
    },
    {
     "data": {
      "text/plain": [
       "inf"
      ]
     },
     "execution_count": 13,
     "metadata": {},
     "output_type": "execute_result"
    }
   ],
   "source": [
    "np.linalg.norm(a,1000) "
   ]
  },
  {
   "cell_type": "code",
   "execution_count": 15,
   "id": "ab64b45e",
   "metadata": {},
   "outputs": [
    {
     "data": {
      "text/plain": [
       "3.7416573867739413"
      ]
     },
     "execution_count": 15,
     "metadata": {},
     "output_type": "execute_result"
    }
   ],
   "source": [
    "from scipy import linalg\n",
    "linalg.norm(a) "
   ]
  },
  {
   "cell_type": "code",
   "execution_count": 16,
   "id": "830551db",
   "metadata": {},
   "outputs": [
    {
     "data": {
      "text/plain": [
       "3.0"
      ]
     },
     "execution_count": 16,
     "metadata": {},
     "output_type": "execute_result"
    }
   ],
   "source": [
    "linalg.norm(a, 100)"
   ]
  },
  {
   "cell_type": "code",
   "execution_count": 17,
   "id": "9037317c",
   "metadata": {},
   "outputs": [
    {
     "name": "stderr",
     "output_type": "stream",
     "text": [
      "c:\\Users\\ACER\\AppData\\Local\\Programs\\Python\\Python311\\Lib\\site-packages\\numpy\\linalg\\linalg.py:2590: RuntimeWarning: overflow encountered in power\n",
      "  absx **= ord\n"
     ]
    },
    {
     "data": {
      "text/plain": [
       "inf"
      ]
     },
     "execution_count": 17,
     "metadata": {},
     "output_type": "execute_result"
    }
   ],
   "source": [
    "linalg.norm(a, 1000) "
   ]
  },
  {
   "cell_type": "code",
   "execution_count": 18,
   "id": "d74f38ca",
   "metadata": {},
   "outputs": [
    {
     "data": {
      "text/plain": [
       "array([[ 5,  4, -4, -9],\n",
       "       [-4,  3, -3,  8],\n",
       "       [ 3, -2, -1,  6]])"
      ]
     },
     "execution_count": 18,
     "metadata": {},
     "output_type": "execute_result"
    }
   ],
   "source": [
    "import numpy as np\n",
    "m = 10\n",
    "v1 = np.array([5,-4,3])\n",
    "v2 = np.array([4,3,-2])\n",
    "v3 = np.array([-4,-3,-1])\n",
    "v4 = np.array([-9,8,6])\n",
    "mi = np.array([2,5,2,1])\n",
    "M = np.array([v1,v2,v3,v4])\n",
    "MT = M.transpose()\n",
    "MT"
   ]
  },
  {
   "cell_type": "code",
   "execution_count": 30,
   "id": "dd593044",
   "metadata": {},
   "outputs": [],
   "source": [
    "v = (1.0/m)*MT.dot(mi) "
   ]
  },
  {
   "cell_type": "code",
   "execution_count": 31,
   "id": "7c42392f",
   "metadata": {},
   "outputs": [
    {
     "name": "stdout",
     "output_type": "stream",
     "text": [
      "[1.3 0.9 0. ]\n"
     ]
    }
   ],
   "source": [
    "print(v)"
   ]
  },
  {
   "cell_type": "code",
   "execution_count": 40,
   "id": "e0cd5dda",
   "metadata": {},
   "outputs": [
    {
     "name": "stdout",
     "output_type": "stream",
     "text": [
      "Ma trận chuyển trạng thái A:\n",
      " [[0.998 0.136]\n",
      " [0.002 0.864]]\n",
      "Vector trạng thái ban đầu v0:\n",
      " [[0.95]\n",
      " [0.05]]\n",
      "Ma trận A^100:\n",
      " [[0.98550725 0.9855069 ]\n",
      " [0.01449275 0.0144931 ]]\n",
      "Trạng thái sau 100 tuần (x100, y100):\n",
      " [[0.98550723]\n",
      " [0.01449277]]\n",
      "Trạng thái sau 100 tuần (làm tròn):\n",
      " [[0.9855]\n",
      " [0.0145]]\n"
     ]
    }
   ],
   "source": [
    "import numpy as np\n",
    "p = 0.136\n",
    "q = 0.998\n",
    "A = np.array([[q, p],\n",
    "              [1 - q, 1 - p]])\n",
    "\n",
    "print(\"Ma trận chuyển trạng thái A:\\n\", A)\n",
    "x0 = 0.95\n",
    "y0 = 0.05\n",
    "v0 = np.array([[x0],\n",
    "               [y0]])\n",
    "\n",
    "print(\"Vector trạng thái ban đầu v0:\\n\", v0)\n",
    "A_power_100 = np.linalg.matrix_power(A, 100)\n",
    "print(\"Ma trận A^100:\\n\", A_power_100)\n",
    "v100 = np.dot(A_power_100, v0)\n",
    "print(\"Trạng thái sau 100 tuần (x100, y100):\\n\", v100)\n",
    "v100_rounded = np.round(v100, 4)\n",
    "print(\"Trạng thái sau 100 tuần (làm tròn):\\n\", v100_rounded)"
   ]
  },
  {
   "cell_type": "code",
   "execution_count": 42,
   "id": "b31cb695",
   "metadata": {},
   "outputs": [
    {
     "name": "stdout",
     "output_type": "stream",
     "text": [
      "Ma trận hệ số của hệ phương trình:\n",
      " [[  1 -68]\n",
      " [  1   1]]\n",
      "\n",
      "Vector hằng số của hệ phương trình:\n",
      " [0 1]\n",
      "\n",
      "Trạng thái cân bằng [x, y]:\n",
      " [0.98550725 0.01449275]\n",
      "\n",
      "Giá trị x cân bằng (tỷ lệ có việc làm): 0.9855\n",
      "Giá trị y cân bằng (tỷ lệ thất nghiệp): 0.0145\n"
     ]
    }
   ],
   "source": [
    "import numpy as np\n",
    "A_system = np.array([[1, -68],\n",
    "                     [1,  1]])\n",
    "\n",
    "b_system = np.array([0, 1])\n",
    "v_equilibrium = np.linalg.solve(A_system, b_system)\n",
    "print(\"Ma trận hệ số của hệ phương trình:\\n\", A_system)\n",
    "print(\"\\nVector hằng số của hệ phương trình:\\n\", b_system)\n",
    "print(\"\\nTrạng thái cân bằng [x, y]:\\n\", v_equilibrium)\n",
    "x_eq = v_equilibrium[0]\n",
    "y_eq = v_equilibrium[1]\n",
    "print(f\"\\nGiá trị x cân bằng (tỷ lệ có việc làm): {x_eq:.4f}\")\n",
    "print(f\"Giá trị y cân bằng (tỷ lệ thất nghiệp): {y_eq:.4f}\")"
   ]
  },
  {
   "cell_type": "code",
   "execution_count": 22,
   "id": "3940e715",
   "metadata": {},
   "outputs": [
    {
     "name": "stdout",
     "output_type": "stream",
     "text": [
      "⎧   68         ⎫\n",
      "⎨x: ──, y: 1/69⎬\n",
      "⎩   69         ⎭\n"
     ]
    }
   ],
   "source": [
    "import sympy as sym\n",
    "x, y = sym.symbols('x y')\n",
    "xy = sym.Matrix([[x],[y]])\n",
    "A = sym.Matrix([[1, -68],[1,1]])\n",
    "v = sym.Matrix([0, 1])\n",
    "nghiem = sym.solve([A*xy-v])\n",
    "print(sym.pretty(nghiem))"
   ]
  },
  {
   "cell_type": "code",
   "execution_count": 49,
   "id": "39ad4516",
   "metadata": {},
   "outputs": [
    {
     "name": "stdout",
     "output_type": "stream",
     "text": [
      "Ma trận hệ số của hệ phương trình:\n",
      " [[  1 -68]\n",
      " [  1   1]]\n",
      "\n",
      "Vector hằng số:\n",
      " [0 1]\n",
      "\n",
      "Trạng thái cân bằng [x, y]:\n",
      " [0.98550725 0.01449275]\n",
      "\n",
      "Giá trị x cân bằng (tỷ lệ có việc làm): 0.985507\n",
      "Giá trị y cân bằng (tỷ lệ thất nghiệp): 0.014493\n"
     ]
    }
   ],
   "source": [
    "import numpy as np\n",
    "A_he_so = np.array([[1, -68],\n",
    "                    [1,  1]])\n",
    "\n",
    "b_hang_so = np.array([0, 1])\n",
    "ket_qua = np.linalg.solve(A_he_so, b_hang_so)\n",
    "print(\"Ma trận hệ số của hệ phương trình:\\n\", A_he_so)\n",
    "print(\"\\nVector hằng số:\\n\", b_hang_so)\n",
    "print(\"\\nTrạng thái cân bằng [x, y]:\\n\", ket_qua)\n",
    "x_can_bang = ket_qua[0]\n",
    "y_can_bang = ket_qua[1]\n",
    "print(f\"\\nGiá trị x cân bằng (tỷ lệ có việc làm): {x_can_bang:.6f}\")\n",
    "print(f\"Giá trị y cân bằng (tỷ lệ thất nghiệp): {y_can_bang:.6f}\")"
   ]
  },
  {
   "cell_type": "code",
   "execution_count": 23,
   "id": "6e81cda9",
   "metadata": {},
   "outputs": [
    {
     "name": "stdout",
     "output_type": "stream",
     "text": [
      "[-7.000, 3.000]\n"
     ]
    }
   ],
   "source": [
    "import sympy\n",
    "x, y, Lambda = sympy.symbols('x y Lambda')\n",
    "I = sympy.eye(2)\n",
    "A = sympy.Matrix([[2,3],[3,-6]])\n",
    "phuongtrinh = sympy.Eq(sympy.det(Lambda*I-A), 0)\n",
    "nghiem = sympy.solve(phuongtrinh)\n",
    "print([sympy.N(phantu,4) for phantu in nghiem])"
   ]
  },
  {
   "cell_type": "code",
   "execution_count": 24,
   "id": "77afd003",
   "metadata": {},
   "outputs": [
    {
     "name": "stdout",
     "output_type": "stream",
     "text": [
      "[-7, 3]\n"
     ]
    }
   ],
   "source": [
    "print (sympy.pretty(nghiem)) "
   ]
  },
  {
   "cell_type": "code",
   "execution_count": 50,
   "id": "0adc7e41",
   "metadata": {},
   "outputs": [
    {
     "name": "stdout",
     "output_type": "stream",
     "text": [
      "Ma trận A:\n",
      " [[1 6]\n",
      " [5 2]]\n",
      "\n",
      "Vector u:\n",
      " [[ 6]\n",
      " [-5]]\n",
      "\n",
      "Tích Au:\n",
      " [[-24]\n",
      " [ 20]]\n",
      "\n",
      "Tích -4u:\n",
      " [[-24]\n",
      " [ 20]]\n",
      "\n",
      "Au = -4u đã được chứng minh.\n"
     ]
    }
   ],
   "source": [
    "import numpy as np\n",
    "A = np.array([[1, 6],\n",
    "              [5, 2]])\n",
    "\n",
    "u = np.array([[6],\n",
    "              [-5]])\n",
    "\n",
    "Au = np.dot(A, u)\n",
    "negative_4u = -4 * u\n",
    "print(\"Ma trận A:\\n\", A)\n",
    "print(\"\\nVector u:\\n\", u)\n",
    "print(\"\\nTích Au:\\n\", Au)\n",
    "print(\"\\nTích -4u:\\n\", negative_4u)\n",
    "if np.array_equal(Au, negative_4u):\n",
    "    print(\"\\nAu = -4u đã được chứng minh.\")\n",
    "else:\n",
    "    print(\"\\nAu != -4u. Có lỗi trong tính toán hoặc dữ liệu.\")"
   ]
  },
  {
   "cell_type": "code",
   "execution_count": 25,
   "id": "606a32af",
   "metadata": {},
   "outputs": [
    {
     "name": "stdout",
     "output_type": "stream",
     "text": [
      "[[-0.3  0.9]\n",
      " [ 0.3  0.1]]\n"
     ]
    }
   ],
   "source": [
    "import numpy as np\n",
    "A = np.array([[2,3],[3,-6]])\n",
    "D = np.array([[-7,0],[0,3]])\n",
    "P = np.array([[-1.0/3, 3],[1,1]])\n",
    "from numpy import linalg\n",
    "from numpy import linalg as LA\n",
    "P1 = LA.inv(P) \n",
    "print (P1)"
   ]
  },
  {
   "cell_type": "code",
   "execution_count": 26,
   "id": "765cbdba",
   "metadata": {},
   "outputs": [
    {
     "data": {
      "text/plain": [
       "array([[ 2.33333333,  9.        ],\n",
       "       [-7.        ,  3.        ]])"
      ]
     },
     "execution_count": 26,
     "metadata": {},
     "output_type": "execute_result"
    }
   ],
   "source": [
    "A.dot(P) "
   ]
  },
  {
   "cell_type": "code",
   "execution_count": 27,
   "id": "41cff50d",
   "metadata": {},
   "outputs": [
    {
     "data": {
      "text/plain": [
       "array([[ 2.33333333,  9.        ],\n",
       "       [-7.        ,  3.        ]])"
      ]
     },
     "execution_count": 27,
     "metadata": {},
     "output_type": "execute_result"
    }
   ],
   "source": [
    "P.dot(D) "
   ]
  },
  {
   "cell_type": "code",
   "execution_count": 28,
   "id": "cab26144",
   "metadata": {},
   "outputs": [
    {
     "data": {
      "text/plain": [
       "array([[-6.25396533e+08, -3.52488701e+08],\n",
       "       [-3.52488701e+08,  3.14573335e+08]])"
      ]
     },
     "execution_count": 28,
     "metadata": {},
     "output_type": "execute_result"
    }
   ],
   "source": [
    "P @ (D ** 1000) @ P1 "
   ]
  },
  {
   "cell_type": "code",
   "execution_count": 29,
   "id": "ec0fb5fc",
   "metadata": {},
   "outputs": [
    {
     "name": "stdout",
     "output_type": "stream",
     "text": [
      "[[49  0]\n",
      " [ 0  9]]\n"
     ]
    }
   ],
   "source": [
    "print (D **2)"
   ]
  },
  {
   "cell_type": "code",
   "execution_count": 52,
   "id": "d6916f1c",
   "metadata": {},
   "outputs": [
    {
     "name": "stdout",
     "output_type": "stream",
     "text": [
      "Vector u: [1 2]\n",
      "Vector v: [3 4]\n",
      "\n",
      "a. Khoảng cách giữa u và v (||u - v||): 2.8284\n",
      "b. Tích vô hướng <u, v>: 11.0000\n",
      "   Chuẩn của u (||u||): 2.2361\n",
      "   Chuẩn của v (||v||): 5.0000\n",
      "   Cos(theta): 0.9839\n",
      "   Góc theta (radian): 0.1799\n",
      "   Góc theta (độ): 10.3048\n",
      "\n",
      "c. Tích vô hướng <u, v>: 11.0000\n",
      "   Tích vô hướng <v, v>: 25.0000\n",
      "   Hệ số tỉ lệ: 0.4400\n",
      "   Phép chiếu trực giao p của u lên v: [1.32 1.76]\n"
     ]
    }
   ],
   "source": [
    "import numpy as np\n",
    "u = np.array([1, 2])\n",
    "v = np.array([3, 4])\n",
    "print(f\"Vector u: {u}\")\n",
    "print(f\"Vector v: {v}\\n\")\n",
    "# a. Khoảng cách giữa 2 vector u và v: ||u - v||\n",
    "diff_uv = u - v\n",
    "distance_uv = np.linalg.norm(diff_uv)\n",
    "print(f\"a. Khoảng cách giữa u và v (||u - v||): {distance_uv:.4f}\")\n",
    "# b. Góc theta của 2 vector u và v\n",
    "dot_product_uv = np.dot(u, v)\n",
    "norm_u = np.linalg.norm(u)\n",
    "norm_v = np.linalg.norm(v)\n",
    "if norm_u == 0 or norm_v == 0:\n",
    "    print(\"b. Không thể tính góc nếu một trong các vector là vector 0.\")\n",
    "else:\n",
    "    cos_theta = dot_product_uv / (norm_u * norm_v)\n",
    "    cos_theta = np.clip(cos_theta, -1.0, 1.0)\n",
    "    theta_radians = np.arccos(cos_theta)\n",
    "    theta_degrees = np.degrees(theta_radians)\n",
    "    print(f\"b. Tích vô hướng <u, v>: {dot_product_uv:.4f}\")\n",
    "    print(f\"   Chuẩn của u (||u||): {norm_u:.4f}\")\n",
    "    print(f\"   Chuẩn của v (||v||): {norm_v:.4f}\")\n",
    "    print(f\"   Cos(theta): {cos_theta:.4f}\")\n",
    "    print(f\"   Góc theta (radian): {theta_radians:.4f}\")\n",
    "    print(f\"   Góc theta (độ): {theta_degrees:.4f}\")\n",
    "\n",
    "# c. Phép chiếu trực giao p của u lên v\n",
    "dot_product_vv = np.dot(v, v)\n",
    "\n",
    "if dot_product_vv == 0:\n",
    "    print(\"\\nc. Không thể tính phép chiếu nếu vector v là vector 0.\")\n",
    "else:\n",
    "    scalar_factor = dot_product_uv / dot_product_vv\n",
    "    projection_p = scalar_factor * v\n",
    "    print(f\"\\nc. Tích vô hướng <u, v>: {dot_product_uv:.4f}\")\n",
    "    print(f\"   Tích vô hướng <v, v>: {dot_product_vv:.4f}\")\n",
    "    print(f\"   Hệ số tỉ lệ: {scalar_factor:.4f}\")\n",
    "    print(f\"   Phép chiếu trực giao p của u lên v: {projection_p}\")"
   ]
  }
 ],
 "metadata": {
  "kernelspec": {
   "display_name": "Python 3",
   "language": "python",
   "name": "python3"
  },
  "language_info": {
   "codemirror_mode": {
    "name": "ipython",
    "version": 3
   },
   "file_extension": ".py",
   "mimetype": "text/x-python",
   "name": "python",
   "nbconvert_exporter": "python",
   "pygments_lexer": "ipython3",
   "version": "3.11.0"
  }
 },
 "nbformat": 4,
 "nbformat_minor": 5
}
